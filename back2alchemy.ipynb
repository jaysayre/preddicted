{
 "metadata": {
  "name": ""
 },
 "nbformat": 3,
 "nbformat_minor": 0,
 "worksheets": [
  {
   "cells": [
    {
     "cell_type": "code",
     "collapsed": false,
     "input": [
      "import pandas as pd\n",
      "import json\n",
      "import os\n",
      "import urllib\n",
      "import urllib2\n",
      "#from myalchemy import MyAlchemy\n",
      "\n",
      "#apikey = \"dcac82649daaa2627ee783b25779cfaed4af0067\" #Jay's key\n",
      "apikey = \"e945cef59338f9e8e7bc962badde170e623fb7e5\" #Basti's key\n",
      "#apikey = \"cb736ca44e57cd6764b70ec86886f4fce8f6a68d\" #Serguei's Key"
     ],
     "language": "python",
     "metadata": {},
     "outputs": [],
     "prompt_number": 60
    },
    {
     "cell_type": "code",
     "collapsed": false,
     "input": [
      "#Since we only get so many Alchemy API calls, might as well not call\n",
      "#Alchemy on duplicate posts between subreddits. We'll merge these later.\n",
      "df = pd.read_csv('Data/full.csv', encoding='utf-8')\n",
      "\n",
      "print \"Original size of data set is\", len(df)\n",
      "df = df.drop('type',1) # Drops type so that drop_duplicates will work properly\n",
      "df = df.drop_duplicates()\n",
      "print \"Size of data set with only unique posts is\", len(df)\n",
      "subs = list(df['subreddit'].unique()) "
     ],
     "language": "python",
     "metadata": {},
     "outputs": [
      {
       "output_type": "stream",
       "stream": "stdout",
       "text": [
        "Original size of data set is 44261\n",
        "Size of data set with only unique posts is"
       ]
      },
      {
       "output_type": "stream",
       "stream": "stdout",
       "text": [
        " 38427\n"
       ]
      }
     ],
     "prompt_number": 65
    },
    {
     "cell_type": "code",
     "collapsed": false,
     "input": [
      "file_dir = \"Data/combinedcomments/\"\n",
      "\n",
      "path, dirs, files = os.walk(file_dir).next()\n",
      "csvfiles = [file_dir + i for i in files if \".csv\" in i ] #Builds a list with .csv files\n",
      "csvfiles.sort()\n",
      "csvfiles"
     ],
     "language": "python",
     "metadata": {},
     "outputs": [
      {
       "metadata": {},
       "output_type": "pyout",
       "prompt_number": 62,
       "text": [
        "['Data/combinedcomments/AskReddit.csv',\n",
        " 'Data/combinedcomments/TalesFromTechsupport.csv',\n",
        " 'Data/combinedcomments/askhistorians.csv',\n",
        " 'Data/combinedcomments/askscience.csv',\n",
        " 'Data/combinedcomments/atheism.csv',\n",
        " 'Data/combinedcomments/explainlikeimfive.csv',\n",
        " 'Data/combinedcomments/jokes.csv',\n",
        " 'Data/combinedcomments/nosleep.csv',\n",
        " 'Data/combinedcomments/pettyrevenge.csv',\n",
        " 'Data/combinedcomments/politics.csv',\n",
        " 'Data/combinedcomments/talesFromRetail.csv',\n",
        " 'Data/combinedcomments/tifu.csv']"
       ]
      }
     ],
     "prompt_number": 62
    },
    {
     "cell_type": "code",
     "collapsed": false,
     "input": [
      "length = 0\n",
      "for sub in subs:\n",
      "    print sub\n",
      "    smalldf = df[df['subreddit'] == sub]\n",
      "    for sub"
     ],
     "language": "python",
     "metadata": {},
     "outputs": [
      {
       "output_type": "stream",
       "stream": "stdout",
       "text": [
        "atheism\n",
        "politics\n",
        "nosleep\n",
        "pettyrevenge\n",
        "jokes\n",
        "askhistorians\n",
        "TalesFromTechsupport\n",
        "AskReddit\n",
        "talesFromRetail\n",
        "askscience\n",
        "tifu"
       ]
      },
      {
       "output_type": "stream",
       "stream": "stdout",
       "text": [
        "\n",
        "explainlikeimfive\n"
       ]
      },
      {
       "metadata": {},
       "output_type": "pyout",
       "prompt_number": 68,
       "text": [
        "38427"
       ]
      }
     ],
     "prompt_number": 68
    },
    {
     "cell_type": "code",
     "collapsed": false,
     "input": [
      "subreddit = df['subreddit'][0] \n",
      "postid = df['id'][0]\n",
      "reddit_base = 'http://www.reddit.com/r/%s/comments/%s' % (subreddit, postid) \n",
      "reddit_base = 'http://www.reddit.com/r/atheism/comments/1fgcw3.json'\n"
     ],
     "language": "python",
     "metadata": {},
     "outputs": [],
     "prompt_number": 55
    },
    {
     "cell_type": "code",
     "collapsed": false,
     "input": [
      "class MyAlchemy:\n",
      "    '''\n",
      "    Class for calling the alchemy API\n",
      "    '''\n",
      "    def __init__(self, apikey):\n",
      "        self.params = {'apikey' : apikey, 'outputMode' : 'json', 'showSourceText' : 0}\n",
      "    \n",
      "    def get_json(self, url):\n",
      "        jsonrsp = urllib2.urlopen(url)\n",
      "        data = json.load(jsonrsp)\n",
      "        return data\n",
      "\n",
      "    def text_keywords(self):\n",
      "        #returnlist = []\n",
      "        #for item in self.data['keywords']: \n",
      "        #    returnlist.append((item['relevance'], item['text']))\n",
      "        #return returnlist\n",
      "        print self.data\n",
      "            \n",
      "    def __look_at(self, choice):\n",
      "        if 'keywords' == choice:\n",
      "            return \"text/TextGetRankedKeywords\", 1\n",
      "        elif 'category' in choice:\n",
      "            return \"text/TextGetCategory\", 2\n",
      "        elif 'concepts' in choice:\n",
      "            return \"text/TextGetRankedConcepts\", 3\n",
      "        elif 'sentiment' in choice:\n",
      "            return \"text/TextGetTextSentiment\", 4\n",
      "        elif 'entities' in choice:\n",
      "            return \"text/TextGetRankedNamedEntities\", 5\n",
      "        elif 'urlkeywords' == choice:\n",
      "            return \"url/URLGetRankedKeywords\", 6\n",
      "        else:\n",
      "            return None\n",
      "        \n",
      "    \n",
      "    def run_method(self, comment, whichtoget, otherparams=None):       \n",
      "        method, num = self.__look_at(whichtoget)\n",
      "        if num >= 6:\n",
      "            self.params['url'] = comment\n",
      "        else:\n",
      "            self.params['text'] = comment\n",
      "        form = urllib.urlencode(self.params)\n",
      "        if method != None:\n",
      "            keywordsurl = \"http://access.alchemyapi.com/calls/\" + method + \"?\" + form\n",
      "        else:\n",
      "            print \"Couldn't recognize method\"\n",
      "            pass\n",
      "        \n",
      "        #If there happens to be other parameters\n",
      "        if otherparams != None:\n",
      "            otherform = urllib.urlencode(postparams)\n",
      "            keywordsurl = alchemybase + whichtoget + \"?\" + form + otherform \n",
      "        \n",
      "        print keywordsurl\n",
      "        self.data = self.get_json(keywordsurl)\n",
      "        \n",
      "        if num == 1:\n",
      "            return self.text_keywords()\n",
      "        elif num == 2:\n",
      "            return self.text_category()\n",
      "        elif num == 3:\n",
      "            return self.text_concepts()\n",
      "        elif num == 4:\n",
      "            return self.text_sentiment()\n",
      "        elif num == 5:\n",
      "            return self.text_entities()\n",
      "        else:\n",
      "            return self.text_keywords()"
     ],
     "language": "python",
     "metadata": {},
     "outputs": [],
     "prompt_number": 56
    },
    {
     "cell_type": "code",
     "collapsed": false,
     "input": [
      "p = MyAlchemy(apikey)"
     ],
     "language": "python",
     "metadata": {},
     "outputs": [],
     "prompt_number": 57
    },
    {
     "cell_type": "code",
     "collapsed": false,
     "input": [
      "#print p.run_method('This is a test. I love pie and ice cream, and going to candy stores.', 'concepts')\n",
      "#print p.run_method('This is a test. I love pie and ice cream, and going to candy stores.', 'keywords')\n",
      "#print p.run_method(dftitles[5], 'category')\n",
      "#print p.run_method(dftitles[5], 'sentiment')\n",
      "#print p.run_method(dftitles[5], 'entities')\n",
      "print p.run_method(reddit_base, 'urlkeywords')"
     ],
     "language": "python",
     "metadata": {},
     "outputs": [
      {
       "output_type": "stream",
       "stream": "stdout",
       "text": [
        "http://access.alchemyapi.com/calls/url/URLGetRankedKeywords?url=http%3A%2F%2Fwww.reddit.com%2Fr%2Fatheism%2Fcomments%2F1fgcw3.json&apikey=e945cef59338f9e8e7bc962badde170e623fb7e5&outputMode=json&showSourceText=0\n",
        "{u'status': u'ERROR', u'language': u'unknown', u'url': u'http://www.reddit.com/r/atheism/comments/1fgcw3.json', u'keywords': [], u'statusInfo': u'page-is-not-html', u'usage': u'By accessing AlchemyAPI or using information generated by AlchemyAPI, you are agreeing to be bound by the AlchemyAPI Terms of Use: http://www.alchemyapi.com/company/terms.html'}"
       ]
      },
      {
       "output_type": "stream",
       "stream": "stdout",
       "text": [
        "\n",
        "None\n"
       ]
      }
     ],
     "prompt_number": 58
    },
    {
     "cell_type": "code",
     "collapsed": false,
     "input": [],
     "language": "python",
     "metadata": {},
     "outputs": []
    }
   ],
   "metadata": {}
  }
 ]
}