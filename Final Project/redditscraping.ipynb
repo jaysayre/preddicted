{
 "metadata": {
  "name": ""
 },
 "nbformat": 3,
 "nbformat_minor": 0,
 "worksheets": [
  {
   "cells": [
    {
     "cell_type": "code",
     "collapsed": false,
     "input": [
      "import praw\n",
      "import pandas as pd\n"
     ],
     "language": "python",
     "metadata": {},
     "outputs": [],
     "prompt_number": 22
    },
    {
     "cell_type": "code",
     "collapsed": false,
     "input": [
      "user_agent = (\"Project for class 0.01 by Jay Say\" #Should probably link later\n",
      "              \"https://github.com/jaysayre/\") # Reddit API encourages having a descriptive name, preferably with /u/..\n",
      "r = praw.Reddit(user_agent=user_agent)\n",
      "api_call_limit = 10 # Reddit API limits to 1000\n",
      "subreddit = r.get_subreddit('explainlikeimfive', fetch=True)\n"
     ],
     "language": "python",
     "metadata": {},
     "outputs": [],
     "prompt_number": 112
    },
    {
     "cell_type": "code",
     "collapsed": false,
     "input": [
      "\n",
      "sub = subreddit.get_top_from_all(limit=api_call_limit)\n",
      "\n",
      "# Fancy list comprehensions don't seem to work here, unfortunately, without recalling line above\n",
      "ids = []\n",
      "title = []\n",
      "upvts = []\n",
      "downvts = []\n",
      "authors = []\n",
      "athrkarma = []\n",
      "comments = []\n",
      "score = []\n",
      "for post in sub:\n",
      "    if post.distinguished == None: #Removes moderator comments, which we presumably don't want.\n",
      "        ids.append(post.id)\n",
      "        title.append(post.title)\n",
      "        upvts.append(post.ups)\n",
      "        downvts.append(post.downs)\n",
      "        authors.append(str(post.author))\n",
      "        comments.append(post.num_comments)\n",
      "        score.append(post.score)\n",
      "        #This part can take a while... may be wiser to fetch in seperate step\n",
      "        #try:\n",
      "        #    athrkarma.append(post.author.comment_karma)\n",
      "        #except AttributeError:\n",
      "        #    athrkarma.append(0)\n"
     ],
     "language": "python",
     "metadata": {},
     "outputs": [],
     "prompt_number": 166
    },
    {
     "cell_type": "code",
     "collapsed": false,
     "input": [
      "eli5top = pd.DataFrame({'id': ids, 'post_title': title, 'upvotes': upvts, 'downvts':downvts, 'comments':comments, 'score':score, 'authors':authors})#, 'karma':athrkarma})#"
     ],
     "language": "python",
     "metadata": {},
     "outputs": [],
     "prompt_number": 169
    },
    {
     "cell_type": "code",
     "collapsed": false,
     "input": [
      "def get_comments(postid):\n",
      "    submission = r.get_submission(submission_id=postid)\n",
      "    #flat_comments = praw.helpers.flatten_tree(submission.comments) # Flattens comments and replies \n",
      "    \n",
      "    for i in range(0, 5):\n",
      "        try:\n",
      "            print '\\nComment: \"\"' + submission.comments[i].body + '\"\"'\n",
      "        except:\n",
      "            pass\n",
      "        print \"Submission Id:\", submission.comments[i].id\n",
      "        print \"Score:\", submission.comments[i].score\n",
      "        print \"Author:\", submission.comments[i].author\n",
      "        #This part can take a while... may be wiser to fetch in seperate step\n",
      "        try:\n",
      "            print \"Author Karma:\", submission.comments[i].author.comment_karma\n",
      "        except AttributeError: \n",
      "            pass"
     ],
     "language": "python",
     "metadata": {},
     "outputs": [],
     "prompt_number": 185
    },
    {
     "cell_type": "code",
     "collapsed": false,
     "input": [
      "topids = list(eli5top['id'])\n",
      "\n",
      "#for i in range(len(topids)):\n",
      "#    topids[i] = str(topids[i])\n",
      "    \n",
      "get_comments(topids[2])\n",
      "    \n"
     ],
     "language": "python",
     "metadata": {},
     "outputs": [],
     "prompt_number": 189
    },
    {
     "cell_type": "code",
     "collapsed": false,
     "input": [],
     "language": "python",
     "metadata": {},
     "outputs": []
    }
   ],
   "metadata": {}
  }
 ]
}