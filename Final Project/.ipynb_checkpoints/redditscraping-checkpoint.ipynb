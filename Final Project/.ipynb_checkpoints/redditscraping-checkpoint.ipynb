{
 "metadata": {
  "name": ""
 },
 "nbformat": 3,
 "nbformat_minor": 0,
 "worksheets": [
  {
   "cells": [
    {
     "cell_type": "code",
     "collapsed": false,
     "input": [
      "import praw\n",
      "import pandas as pd\n",
      "#from __future__ import print_function\n",
      "from alchemyapi import AlchemyAPI\n",
      "import json\n",
      "import os\n"
     ],
     "language": "python",
     "metadata": {},
     "outputs": [],
     "prompt_number": 38
    },
    {
     "cell_type": "code",
     "collapsed": false,
     "input": [
      "user_agent = (\"Project for class 0.01\" #Should probably link later\n",
      "              \"/u/Valedra\"\n",
      "              \"https://github.com/jaysayre/intelligentdolphins\") # Reddit API encourages having a descriptive name, preferably with /u/..\n",
      "r = praw.Reddit(user_agent=user_agent)\n",
      "api_call_limit = 10 # Reddit API limits to 1000\n",
      "subreddit = r.get_subreddit('explainlikeimfive', fetch=True)\n"
     ],
     "language": "python",
     "metadata": {},
     "outputs": [],
     "prompt_number": 34
    },
    {
     "cell_type": "markdown",
     "metadata": {},
     "source": [
      "The API is limited to 1000 calls at a time. We need to figure out how to get the \"next\" 1000."
     ]
    },
    {
     "cell_type": "code",
     "collapsed": false,
     "input": [
      "\n",
      "sub = subreddit.get_top_from_all(limit=api_call_limit)\n",
      "\n",
      "# Fancy list comprehensions don't seem to work here, unfortunately, without recalling line above\n",
      "ids = []\n",
      "title = []\n",
      "upvts = []\n",
      "downvts = []\n",
      "authors = []\n",
      "athrkarma = []\n",
      "comments = []\n",
      "score = []\n",
      "for post in sub:\n",
      "    if post.distinguished == None: #Removes moderator comments, which we presumably don't want.\n",
      "        ids.append(post.id)\n",
      "        title.append(post.title)\n",
      "        upvts.append(post.ups)\n",
      "        downvts.append(post.downs)\n",
      "        authors.append(str(post.author))\n",
      "        comments.append(post.num_comments)\n",
      "        score.append(post.score)\n",
      "        #This part can take a while... may be wiser to fetch in seperate step\n",
      "        #try:\n",
      "        #    athrkarma.append(post.author.comment_karma)\n",
      "        #except AttributeError:\n",
      "        #    athrkarma.append(0)\n"
     ],
     "language": "python",
     "metadata": {},
     "outputs": [],
     "prompt_number": 35
    },
    {
     "cell_type": "code",
     "collapsed": false,
     "input": [
      "eli5top = pd.DataFrame({'id': ids, 'post_title': title, 'upvotes': upvts, 'downvts':downvts, 'comments':comments, 'score':score, 'authors':authors})#, 'karma':athrkarma})#"
     ],
     "language": "python",
     "metadata": {},
     "outputs": [],
     "prompt_number": 36
    },
    {
     "cell_type": "markdown",
     "metadata": {},
     "source": [
      "The \"n\" in the following function is the number of top level comments you want to get. By default, reddit only shows the first 200, you can expand it (look at the docs for praw). "
     ]
    },
    {
     "cell_type": "code",
     "collapsed": false,
     "input": [
      "def get_comments(postid, n=100):\n",
      "    submission = r.get_submission(submission_id=postid)\n",
      "    # Flattens comments and replies \n",
      "    #flat_comments = praw.helpers.flatten_tree(submission.comments) \n",
      "    \n",
      "    for i in range(0, n):\n",
      "        try:\n",
      "            print ' \\n Comment: \"\"' + submission.comments[i].body + '\"\"'\n",
      "            print \"Submission Id:\", submission.comments[i].id\n",
      "            print \"Score:\", submission.comments[i].score\n",
      "            print \"Author:\", submission.comments[i].author\n",
      "            This part can take a while... may be wiser to fetch in seperate step\n",
      "            print \"Author Karma:\", submission.comments[i].author.comment_karma\n",
      "         except:\n",
      "            pass\n",
      "        "
     ],
     "language": "python",
     "metadata": {},
     "outputs": [
      {
       "ename": "SyntaxError",
       "evalue": "invalid syntax (<ipython-input-39-0edc59c339ed>, line 8)",
       "output_type": "pyerr",
       "traceback": [
        "\u001b[1;36m  File \u001b[1;32m\"<ipython-input-39-0edc59c339ed>\"\u001b[1;36m, line \u001b[1;32m8\u001b[0m\n\u001b[1;33m    print ' \\n Comment: \"\"' + submission.comments[i].body + '\"\"'\u001b[0m\n\u001b[1;37m                          ^\u001b[0m\n\u001b[1;31mSyntaxError\u001b[0m\u001b[1;31m:\u001b[0m invalid syntax\n"
       ]
      }
     ],
     "prompt_number": 39
    },
    {
     "cell_type": "code",
     "collapsed": false,
     "input": [
      "topids = list(eli5top['id'])\n",
      "\n",
      "#for i in range(len(topids)):\n",
      "#    topids[i] = str(topids[i])\n",
      "    \n",
      "comment = get_comments(topids[2], 100)\n",
      "\n",
      "comment\n"
     ],
     "language": "python",
     "metadata": {},
     "outputs": [
      {
       "metadata": {},
       "output_type": "pyout",
       "prompt_number": 23,
       "text": [
        "u'\\nComment: \"\"The darth bane trilogy of books explains the concept of the rule of two very well,\\nfor starters there are only two sith because that way the power base is focused, there is not a huge array of sith fighting each other for power, as is the nature of the dark side. and so it is harder for the jedi to confirm their existance, thus ensuring the continued survival of the true Sith.\\nBecause there are only two sith, a Sith lord MUST take an apprentice, for the power and knowledge of the sith must not be allowed to die out. \\n\\nEvery Sith master knows his apprentice will try and kill him, as he killed his master before, and most accept this, because it means he has grown weak, while his apprentice is strong, in this way the Sith ALWAYS grow stronger, while the jedi stagnate, sharing knowledge and power among lesser weak people who should not be allowed to survive.\\n\\nthere are Sith who strive for immortality, thinking they will never find an apprentice strong eneugh to succeed them; or perhaps being afraid of death, such as palpatine has tried various times. Palpatine, and those like him have strayed from the Path of two that was instituted by Bane, weakening the Sith and exposing them. \\n\\n\\nTL:DR Survival of the fittest\"\"'"
       ]
      }
     ],
     "prompt_number": 23
    },
    {
     "cell_type": "code",
     "collapsed": false,
     "input": [
      "# Make sure to use your own API key\n",
      "apikey = \"dcac82649daaa2627ee783b25779cfaed4af0067\" #Jay's key\n",
      "#apikey = \"e945cef59338f9e8e7bc962badde170e623fb7e5\" #Basti's key\n",
      "with open('api_key.txt', 'w') as keytxt:\n",
      "    keytxt.write(apikey)\n",
      "    \n",
      "# Create the AlchemyAPI object \n",
      "alchemyapi = AlchemyAPI()\n",
      "\n",
      "\n",
      "response = alchemyapi.entities('text', comment, { 'sentiment':1 })\n",
      "\n",
      "if response['status'] == 'OK':\n",
      "    #Entity Extraction\n",
      "\tprint('## Entities ##')\n",
      "\tfor entity in response['entities']:\n",
      "\t\tprint('text: ', entity['text'].encode('utf-8'))\n",
      "\t\tprint('type: ', entity['type'])\n",
      "\t\tprint('relevance: ', entity['relevance'])\n",
      "\t\tprint('sentiment: ', entity['sentiment']['type'])\n",
      "\t\tif 'score' in entity['sentiment']:\n",
      "\t\t\tprint('sentiment score: ' + entity['sentiment']['score']) \n",
      "else:\n",
      "\tprint('Error in entity extraction call: ', response['statusInfo'])\n",
      "    \n"
     ],
     "language": "python",
     "metadata": {},
     "outputs": [
      {
       "output_type": "stream",
       "stream": "stdout",
       "text": [
        "## Entities ##\n",
        "text:  palpatine\n",
        "type:  Person\n",
        "relevance:  0.857141\n",
        "sentiment:  negative\n",
        "sentiment score: -0.25927\n",
        "text:  Bane\n",
        "type:  Person\n",
        "relevance:  0.58993\n",
        "sentiment:  negative\n",
        "sentiment score: -0.161501\n"
       ]
      }
     ],
     "prompt_number": 7
    },
    {
     "cell_type": "code",
     "collapsed": false,
     "input": [
      "#Keyword Extraction\n",
      "\n",
      "response = alchemyapi.keywords('text',comment, { 'sentiment':1 })\n",
      "\n",
      "if response['status'] == 'OK':\n",
      "\tprint('## Keywords ##')\n",
      "\tfor keyword in response['keywords']:\n",
      "\t\tprint('text: ', keyword['text'].encode('utf-8'))\n",
      "\t\tprint('relevance: ', keyword['relevance'])\n",
      "\t\tprint('sentiment: ', keyword['sentiment']['type']) \n",
      "\t\tif 'score' in keyword['sentiment']:\n",
      "\t\t\tprint('sentiment score: ' + keyword['sentiment']['score'])\n",
      "\n",
      "else:\n",
      "\tprint('Error in keyword extaction call: ', response['statusInfo'])"
     ],
     "language": "python",
     "metadata": {},
     "outputs": [
      {
       "output_type": "stream",
       "stream": "stdout",
       "text": [
        "## Keywords ##\n",
        "text:  sith\n",
        "relevance:  0.94021\n",
        "sentiment:  negative\n",
        "sentiment score: -0.0677662\n",
        "text:  sith fighting\n",
        "relevance:  0.831657\n",
        "sentiment:  negative\n",
        "sentiment score: -0.13595\n",
        "text:  true Sith\n",
        "relevance:  0.821103\n",
        "sentiment:  positive\n",
        "sentiment score: 0.21023\n",
        "text:  Sith lord\n",
        "relevance:  0.809042\n",
        "sentiment:  positive\n",
        "sentiment score: 0.0539408\n",
        "text:  Sith master\n",
        "relevance:  0.781466\n",
        "sentiment:  negative\n",
        "sentiment score: -0.0161541\n",
        "text:  darth bane trilogy\n",
        "relevance:  0.742785\n",
        "sentiment:  negative\n",
        "sentiment score: -0.00819054\n",
        "text:  apprentice strong eneugh\n",
        "relevance:  0.665768\n",
        "sentiment:  negative\n",
        "sentiment score: -0.0902359\n",
        "text:  lesser weak people\n",
        "relevance:  0.632454\n",
        "sentiment:  negative\n",
        "sentiment score: -0.103665\n",
        "text:  huge array\n",
        "relevance:  0.448878\n",
        "sentiment:  negative\n",
        "sentiment score: -0.0845457\n",
        "text:  dark side.\n",
        "relevance:  0.439317\n",
        "sentiment:  negative\n",
        "sentiment score: -0.240285\n",
        "text:  jedi stagnate\n",
        "relevance:  0.436068\n",
        "sentiment:  negative\n",
        "sentiment score: -0.258307\n",
        "text:  power base\n",
        "relevance:  0.423049\n",
        "sentiment:  negative\n",
        "sentiment score: -0.0109247\n",
        "text:  DR Survival\n",
        "relevance:  0.421222\n",
        "sentiment:  neutral\n",
        "text:  various times\n",
        "relevance:  0.412745\n",
        "sentiment:  negative\n",
        "sentiment score: -0.130498\n",
        "text:  palpatine\n",
        "relevance:  0.335146\n",
        "sentiment:  negative\n",
        "sentiment score: -0.101799\n",
        "text:  way\n",
        "relevance:  0.289292\n",
        "sentiment:  negative\n",
        "sentiment score: -0.0435626\n",
        "text:  knowledge\n",
        "relevance:  0.286908\n",
        "sentiment:  negative\n",
        "sentiment score: -0.145057\n",
        "text:  existance\n",
        "relevance:  0.275741\n",
        "sentiment:  positive\n",
        "sentiment score: 0.0228855\n",
        "text:  starters\n",
        "relevance:  0.259663\n",
        "sentiment:  neutral\n",
        "text:  immortality\n",
        "relevance:  0.254791\n",
        "sentiment:  positive\n",
        "sentiment score: 0.00729056\n",
        "text:  Comment\n",
        "relevance:  0.25299\n",
        "sentiment:  negative\n",
        "sentiment score: -0.44275\n",
        "text:  TL\n",
        "relevance:  0.252828\n",
        "sentiment:  neutral\n",
        "text:  rule\n",
        "relevance:  0.250877\n",
        "sentiment:  positive\n",
        "sentiment score: 0.442223\n",
        "text:  books\n",
        "relevance:  0.249005\n",
        "sentiment:  positive\n",
        "sentiment score: 0.200201\n",
        "text:  concept\n",
        "relevance:  0.248691\n",
        "sentiment:  positive\n",
        "sentiment score: 0.339643\n",
        "text:  nature\n",
        "relevance:  0.24498\n",
        "sentiment:  negative\n",
        "sentiment score: -0.208223\n"
       ]
      }
     ],
     "prompt_number": 8
    },
    {
     "cell_type": "code",
     "collapsed": false,
     "input": [
      "# Concept Tagging\n",
      "\n",
      "response = alchemyapi.concepts('text',comment)\n",
      "\n",
      "if response['status'] == 'OK':\n",
      "\tprint('\\n## Concepts ##')\n",
      "\tfor concept in response['concepts']:\n",
      "\t\tprint('text: ', concept['text'])\n",
      "\t\tprint('relevance: ', concept['relevance'])\n",
      "else:\n",
      "\tprint('Error in concept tagging call: ', response['statusInfo'])"
     ],
     "language": "python",
     "metadata": {},
     "outputs": [
      {
       "output_type": "stream",
       "stream": "stdout",
       "text": [
        "\n",
        "## Concepts ##\n",
        "text:  Sith\n",
        "relevance:  0.973701\n",
        "text:  Jedi\n",
        "relevance:  0.622301\n",
        "text:  Darth Vader\n",
        "relevance:  0.58374\n",
        "text:  Force\n",
        "relevance:  0.553809\n",
        "text:  Anakin Skywalker\n",
        "relevance:  0.541177\n",
        "text:  Palpatine\n",
        "relevance:  0.524084\n",
        "text:  Star Wars Episode I: The Phantom Menace\n",
        "relevance:  0.520136\n",
        "text:  Star Wars\n",
        "relevance:  0.515343\n"
       ]
      }
     ],
     "prompt_number": 9
    },
    {
     "cell_type": "code",
     "collapsed": false,
     "input": [
      "# Relation Extraction\n",
      "\n",
      "response = alchemyapi.relations('text', comment)\n",
      "\n",
      "if response['status'] == 'OK':\n",
      "\tprint('\\n ## Relations ##')\n",
      "\tfor relation in response['relations']:\n",
      "\t\tif 'subject' in relation:\n",
      "\t\t\tprint('Subject: ', relation['subject']['text'].encode('utf-8'))\n",
      "\t\tif 'action' in relation:\n",
      "\t\t\tprint('Action: ', relation['action']['text'].encode('utf-8'))\n",
      "\t\tif 'object' in relation:\n",
      "\t\t\tprint('Object: ', relation['object']['text'].encode('utf-8'))\n",
      "\t\t\n",
      "else:\n",
      "\tprint('Error in relation extaction call: ', response['statusInfo'])"
     ],
     "language": "python",
     "metadata": {},
     "outputs": [
      {
       "output_type": "stream",
       "stream": "stdout",
       "text": [
        "\n",
        " ## Relations ##\n",
        "Subject:  The darth bane trilogy of books\n",
        "Action:  explains\n",
        "Object:  the concept of the rule of two very well,\n",
        "Subject:  not a huge array\n",
        "Action:  is\n",
        "Object:  of sith fighting each other for power\n",
        "Subject:  it\n",
        "Action:  is\n",
        "Object:  harder\n",
        "Subject:  the jedi\n",
        "Action:  to confirm\n",
        "Object:  their existance\n",
        "Subject:  a Sith lord\n",
        "Action:  MUST take\n",
        "Object:  an apprentice\n",
        "Subject:  Every Sith master\n",
        "Action:  knows\n",
        "Object:  his apprentice\n",
        "Subject:  he\n",
        "Action:  killed\n",
        "Object:  his master\n",
        "Subject:  it\n",
        "Action:  means\n",
        "Object:  he has grown weak, while his apprentice is strong, in this way the Sith ALWAYS grow stronger, while the jedi stagnate\n",
        "Subject:  the Sith\n",
        "Action:  grow\n",
        "Object:  stronger\n",
        "Subject:  his apprentice\n",
        "Action:  sharing\n",
        "Object:  knowledge\n",
        "Subject:  Sith\n",
        "Action:  strive\n",
        "Object:  for immortality\n",
        "Subject:  Sith\n",
        "Action:  thinking\n",
        "Object:  they will never find an apprentice strong eneugh to succeed them\n",
        "Subject:  they\n",
        "Action:  find\n",
        "Object:  an apprentice strong eneugh to succeed them\n",
        "Subject:  palpatine\n",
        "Action:  has\n",
        "Object:  tried various times\n",
        "Subject:  palpatine\n",
        "Action:  has tried\n",
        "Object:  various times\n",
        "Subject:  by Bane\n",
        "Action:  was instituted\n",
        "Object:  two\n"
       ]
      }
     ],
     "prompt_number": 10
    },
    {
     "cell_type": "code",
     "collapsed": false,
     "input": [
      "# Text Categorization\n",
      "response = alchemyapi.category('text', comment)\n",
      "\n",
      "if response['status'] == 'OK':\n",
      "\tprint('\\n ## Category ##')\n",
      "\tprint('text: ', response['category'])\n",
      "\tprint('score: ', response['score'])\n",
      "else:\n",
      "\tprint('Error in text categorization call: ', response['statusInfo'])\n"
     ],
     "language": "python",
     "metadata": {},
     "outputs": [
      {
       "output_type": "stream",
       "stream": "stdout",
       "text": [
        "\n",
        " ## Category ##\n",
        "text:  arts_entertainment\n",
        "score:  0.841248\n"
       ]
      }
     ],
     "prompt_number": 11
    },
    {
     "cell_type": "code",
     "collapsed": false,
     "input": [
      "# Language Detection\n",
      "response = alchemyapi.language('text',comment)\n",
      "\n",
      "if response['status'] == 'OK':\n",
      "\tprint('\\n## Language ##')\n",
      "\tprint('language: ', response['language'])\n",
      "else:\n",
      "\tprint('Error in language detection call: ', response['statusInfo'])"
     ],
     "language": "python",
     "metadata": {},
     "outputs": [
      {
       "output_type": "stream",
       "stream": "stdout",
       "text": [
        "\n",
        "## Language ##\n",
        "language:  english\n"
       ]
      }
     ],
     "prompt_number": 12
    },
    {
     "cell_type": "code",
     "collapsed": false,
     "input": [
      "# Removes api key so we all aren't pushing different keys\n",
      "os.remove('api_key.txt')"
     ],
     "language": "python",
     "metadata": {},
     "outputs": [],
     "prompt_number": 13
    },
    {
     "cell_type": "code",
     "collapsed": false,
     "input": [],
     "language": "python",
     "metadata": {},
     "outputs": []
    }
   ],
   "metadata": {}
  }
 ]
}