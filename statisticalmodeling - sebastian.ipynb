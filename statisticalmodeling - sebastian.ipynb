{
 "metadata": {
  "name": ""
 },
 "nbformat": 3,
 "nbformat_minor": 0,
 "worksheets": [
  {
   "cells": [
    {
     "cell_type": "code",
     "collapsed": false,
     "input": [
      "%matplotlib inline\n",
      "\n",
      "import pandas as pd\n",
      "import json\n",
      "import os\n",
      "import matplotlib.pyplot as plt\n",
      "\n",
      "pd.set_option('display.width', 500)\n",
      "pd.set_option('display.max_columns', 30)\n",
      "\n",
      "# set some nicer defaults for matplotlib\n",
      "from matplotlib import rcParams\n",
      "\n",
      "#these colors come from colorbrewer2.org. Each is an RGB triplet\n",
      "dark2_colors = [(0.10588235294117647, 0.6196078431372549, 0.4666666666666667),\n",
      "                (0.8509803921568627, 0.37254901960784315, 0.00784313725490196),\n",
      "                (0.4588235294117647, 0.4392156862745098, 0.7019607843137254),\n",
      "                (0.9058823529411765, 0.1607843137254902, 0.5411764705882353),\n",
      "                (0.4, 0.6509803921568628, 0.11764705882352941),\n",
      "                (0.9019607843137255, 0.6705882352941176, 0.00784313725490196),\n",
      "                (0.6509803921568628, 0.4627450980392157, 0.11372549019607843),\n",
      "                (0.4, 0.4, 0.4)]\n",
      "\n",
      "rcParams['figure.figsize'] = (10, 6)\n",
      "rcParams['figure.dpi'] = 150\n",
      "rcParams['axes.color_cycle'] = dark2_colors\n",
      "rcParams['lines.linewidth'] = 2\n",
      "rcParams['axes.grid'] = False\n",
      "rcParams['axes.facecolor'] = 'white'\n",
      "rcParams['font.size'] = 14\n",
      "rcParams['patch.edgecolor'] = 'none'\n",
      "\n",
      "\n",
      "def remove_border(axes=None, top=False, right=False, left=True, bottom=True):\n",
      "    \"\"\"\n",
      "    Minimize chartjunk by stripping out unnecessary plot borders and axis ticks\n",
      "    \n",
      "    The top/right/left/bottom keywords toggle whether the corresponding plot border is drawn\n",
      "    \"\"\"\n",
      "    ax = axes or plt.gca()\n",
      "    ax.spines['top'].set_visible(top)\n",
      "    ax.spines['right'].set_visible(right)\n",
      "    ax.spines['left'].set_visible(left)\n",
      "    ax.spines['bottom'].set_visible(bottom)\n",
      "    \n",
      "    #turn off all ticks\n",
      "    ax.yaxis.set_ticks_position('none')\n",
      "    ax.xaxis.set_ticks_position('none')\n",
      "    \n",
      "    #now re-enable visibles\n",
      "    if top:\n",
      "        ax.xaxis.tick_top()\n",
      "    if bottom:\n",
      "        ax.xaxis.tick_bottom()\n",
      "    if left:\n",
      "        ax.yaxis.tick_left()\n",
      "    if right:\n",
      "        ax.yaxis.tick_right()"
     ],
     "language": "python",
     "metadata": {},
     "outputs": [],
     "prompt_number": 56
    },
    {
     "cell_type": "code",
     "collapsed": false,
     "input": [
      "file_dir = \"C:\\Users\\Sebastian\\Dropbox\\Harvard\\data science\\Final Project\\intelligent-dolphins\\Data\\\\\" #Fill in your own\n",
      "\n",
      "path, dirs, files = os.walk(file_dir).next()\n",
      "csvfiles = [file_dir + i for i in files if \".csv\" in i ] #Builds a list with .csv files\n",
      "csvfiles.sort()"
     ],
     "language": "python",
     "metadata": {},
     "outputs": [],
     "prompt_number": 57
    },
    {
     "cell_type": "code",
     "collapsed": false,
     "input": [
      "askreddithot = pd.read_csv(csvfiles[0], encoding='utf-8')\n"
     ],
     "language": "python",
     "metadata": {},
     "outputs": [],
     "prompt_number": 59
    },
    {
     "cell_type": "code",
     "collapsed": false,
     "input": [
      "askreddithot"
     ],
     "language": "python",
     "metadata": {},
     "outputs": [
      {
       "html": [
        "<pre>\n",
        "&ltclass 'pandas.core.frame.DataFrame'&gt\n",
        "Int64Index: 999 entries, 0 to 998\n",
        "Data columns (total 8 columns):\n",
        "author       999  non-null values\n",
        "comments     999  non-null values\n",
        "downvotes    999  non-null values\n",
        "id           999  non-null values\n",
        "score        999  non-null values\n",
        "selftext     497  non-null values\n",
        "title        999  non-null values\n",
        "upvotes      999  non-null values\n",
        "dtypes: int64(4), object(4)\n",
        "</pre>"
       ],
       "metadata": {},
       "output_type": "pyout",
       "prompt_number": 60,
       "text": [
        "<class 'pandas.core.frame.DataFrame'>\n",
        "Int64Index: 999 entries, 0 to 998\n",
        "Data columns (total 8 columns):\n",
        "author       999  non-null values\n",
        "comments     999  non-null values\n",
        "downvotes    999  non-null values\n",
        "id           999  non-null values\n",
        "score        999  non-null values\n",
        "selftext     497  non-null values\n",
        "title        999  non-null values\n",
        "upvotes      999  non-null values\n",
        "dtypes: int64(4), object(4)"
       ]
      }
     ],
     "prompt_number": 60
    },
    {
     "cell_type": "code",
     "collapsed": false,
     "input": [
      "print \"Number of distinct authors: \", len(askreddithot.groupby('author'))"
     ],
     "language": "python",
     "metadata": {},
     "outputs": [
      {
       "output_type": "stream",
       "stream": "stdout",
       "text": [
        "Number of distinct authors:  960\n"
       ]
      }
     ],
     "prompt_number": 113
    },
    {
     "cell_type": "markdown",
     "metadata": {},
     "source": [
      "We will create grouped tables in order to explore the data"
     ]
    },
    {
     "cell_type": "code",
     "collapsed": false,
     "input": [
      "author_table = askreddithot.groupby('author')\n",
      "author_count = author_table['author'].count()"
     ],
     "language": "python",
     "metadata": {},
     "outputs": [],
     "prompt_number": 71
    },
    {
     "cell_type": "markdown",
     "metadata": {},
     "source": [
      "We will plot the number of reviews of each individual author."
     ]
    },
    {
     "cell_type": "code",
     "collapsed": false,
     "input": [
      "plt.hist(author_count, bins = 3)\n",
      "remove_border()"
     ],
     "language": "python",
     "metadata": {},
     "outputs": [
      {
       "metadata": {},
       "output_type": "display_data",
       "png": "[encoded data removed]",
       "text": [
        "<matplotlib.figure.Figure at 0xeb16518>"
       ]
      }
     ],
     "prompt_number": 82
    },
    {
     "cell_type": "code",
     "collapsed": false,
     "input": [
      "successful_authors = askreddithot[author_table.author.transform(lambda x: x.count() > 1).astype('bool')]\n",
      "authorset = set()\n",
      "for a in successful_authors.index:\n",
      "    authorset.add(successful_authors.ix[a]['author'])\n",
      "print \"number of authors with more than 1 submission in the top 1000: \", len(authorset)\n",
      "print \"Their names are:\"\n",
      "for a in authorset:\n",
      "    print a"
     ],
     "language": "python",
     "metadata": {},
     "outputs": [
      {
       "output_type": "stream",
       "stream": "stdout",
       "text": [
        "number of authors with more than 1 submission in the top 1000:  35\n",
        "Their names are:\n",
        "KillerA\n",
        "Grabsy\n",
        "PillDickles\n",
        "Asdyc\n",
        "rko1985\n",
        "Seraph_Grymm\n",
        "laurenisahokie\n",
        "call_me_val\n",
        "Spenser4Hire\n",
        "jrgallag\n",
        "ioliveiraa\n",
        "Madnessrains\n",
        "JustBlue\n",
        "vandamage2112\n",
        "hoologan\n",
        "ten_rapid\n",
        "chance633\n",
        "chrisxcore19\n",
        "Oysterchild\n",
        "Ryancho17\n",
        "KarltonEss\n",
        "oreotragus\n",
        "Copywrites\n",
        "NicoleBHSW\n",
        "BenIrwinG\n",
        "-mcp-\n",
        "Money_Pockets\n",
        "hosinthishouse\n",
        "charliemuggins\n",
        "videosmash2684\n",
        "Assbutt_Winchester\n",
        "novemberst0rm\n",
        "SadBrontosaurus\n",
        "Zehdari\n",
        "destinychanger\n"
       ]
      }
     ],
     "prompt_number": 112
    },
    {
     "cell_type": "markdown",
     "metadata": {},
     "source": [
      "You can see that there is a small number of viral posts in the hot section of askreddit with >10,000 comments and a very high score. The vast majority of the hottest posts have less than 2,500 comments."
     ]
    },
    {
     "cell_type": "code",
     "collapsed": false,
     "input": [
      "plt.hist(askreddithot['comments'], bins = 50, log=True)\n",
      "plt.title(\"comment number distribution\")\n",
      "plt.show()\n",
      "plt.hist(askreddithot['score'], bins = 50, log=True)\n",
      "plt.title(\"score distribution\")\n",
      "plt.show()"
     ],
     "language": "python",
     "metadata": {},
     "outputs": [
      {
       "metadata": {},
       "output_type": "display_data",
       "png": "[encoded data removed]",
       "text": [
        "<matplotlib.figure.Figure at 0xf142f60>"
       ]
      },
      {
       "metadata": {},
       "output_type": "display_data",
       "png": "[encoded data removed]",
       "text": [
        "<matplotlib.figure.Figure at 0xf02df98>"
       ]
      }
     ],
     "prompt_number": 119
    },
    {
     "cell_type": "markdown",
     "metadata": {},
     "source": [
      "Plotting the two histograms you can notice the similarity of them. Both have a huge amount of posts with low score and few comments and some really successful posts with a lot of post"
     ]
    },
    {
     "cell_type": "markdown",
     "metadata": {},
     "source": [
      "Vis:\n",
      "\n",
      "- histogramm of scores, user submissions, comments\n",
      "\n",
      "- scatter plot of scores/comments"
     ]
    },
    {
     "cell_type": "code",
     "collapsed": false,
     "input": [],
     "language": "python",
     "metadata": {},
     "outputs": []
    }
   ],
   "metadata": {}
  }
 ]
}