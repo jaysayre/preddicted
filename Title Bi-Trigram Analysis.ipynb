{
 "metadata": {
  "name": ""
 },
 "nbformat": 3,
 "nbformat_minor": 0,
 "worksheets": [
  {
   "cells": [
    {
     "cell_type": "code",
     "collapsed": false,
     "input": [
      "%matplotlib inline\n",
      "\n",
      "import time\n",
      "import pandas as pd\n",
      "import numpy as np\n",
      "import json\n",
      "import os\n",
      "import urllib\n",
      "import urllib2\n",
      "import matplotlib.pyplot as plt\n",
      "\n",
      "import nltk\n",
      "from nltk.util import ngrams\n",
      "from nltk.collocations import *\n",
      "from nltk.corpus import stopwords\n",
      "\n",
      "import pandas as pd\n",
      "import math\n",
      "from scipy.stats import pearsonr\n",
      "\n",
      "user_agent = (\"Project for Data Science class v1.0\" \" /u/Valedra\" \" https://github.com/jaysayre/intelligentdolphins\")\n",
      "\n",
      "\n",
      "def json_extract(baseurl, headrs=None, params=None):\n",
      "    '''\n",
      "    Helper function to download and read json data. Takes in explanatory headers and returns json dict.\n",
      "    '''\n",
      "    if params != None:\n",
      "        form = urllib.urlencode(params)\n",
      "        url = baseurl+form\n",
      "    else:\n",
      "        url = baseurl\n",
      "    \n",
      "    if headrs != None:\n",
      "        request = urllib2.Request(url, headers=headrs)\n",
      "    else: \n",
      "        request = urllib2.Request(url)\n",
      "    return json.loads(urllib2.urlopen(request).read())\n",
      "\n",
      "def return_grams(sentence, n=[1, 3],  minlength=3):\n",
      "    gramslist = []\n",
      "    mysentencetokens_sw= nltk.word_tokenize(sentence)\n",
      "    mysentencetokens = [token for token in mysentencetokens_sw if (not token in stopwords.words('english')) and len(token) >= minlength]\n",
      "    for j in range(n[0], n[1]+1):\n",
      "        somegrams = ngrams(mysentencetokens, j)\n",
      "        for grams in somegrams:\n",
      "            gramslist.append(' '.join(grams))\n",
      "    return gramslist     \n",
      "\n",
      "def search_keyword(title, maxscores, user_agent, n=[3,3], postid='bhjfb', sort_call='relevance', t='all', subreddit=None, api_call_limit=100):\n",
      "    scores = {}\n",
      "    header = {'User-agent': user_agent}\n",
      "    for term in return_grams(title, [n[0],n[1]]): \n",
      "        post_params = {'q':term, 'sort': sort_call, 't':t, 'limit':api_call_limit}\n",
      "        if subreddit == None:\n",
      "            reddit_base = 'http://www.reddit.com/r/search/search.json?' # If we want to search all of reddit\n",
      "        else:\n",
      "            reddit_base = 'http://www.reddit.com/r/%s/search.json?' % subreddit\n",
      "            post_params.update ({'restrict_sr':'on'})\n",
      "        \n",
      "        #Makes sure maxscores isn't a float!\n",
      "        maxscores = int(maxscores) \n",
      "        api_call_limit = int(api_call_limit)\n",
      "    \n",
      "        #Since reddit only provides <= 100 calls at a time, looks at n requested and splits it up into different requests\n",
      "        if maxscores%api_call_limit != 0:\n",
      "            remainder = maxscores%api_call_limit\n",
      "            num = (maxscores/api_call_limit) +1\n",
      "        else:\n",
      "            num = maxscores/api_call_limit\n",
      "            remainder = api_call_limit\n",
      "            \n",
      "        #Makes an api call for all n entries based on the api call limit\n",
      "        for i in range(num):\n",
      "            if i == 0:\n",
      "                jsondata = json_extract(reddit_base, header, post_params)\n",
      "                tostartfrom = jsondata['data']['after']\n",
      "                for item in jsondata['data']['children']:\n",
      "                    if item['data']['score'] != 0:\n",
      "                        scores.update({item['data']['id'] : item['data']['score']})\n",
      "            elif i == num - 1:\n",
      "                post_params.update({'limit': remainder, 'after': tostartfrom}) #Indicates the post after we wish to call from\n",
      "                jsondata = json_extract(reddit_base, header, post_params)\n",
      "                for item in jsondata['data']['children']:\n",
      "                    if item['data']['score'] != 0:\n",
      "                        scores.update({item['data']['id'] : item['data']['score']})\n",
      "            else: \n",
      "                post_params.update({'after': tostartfrom}) \n",
      "                jsondata = json_extract(reddit_base, header, post_params)\n",
      "                tostartfrom = jsondata['data']['after']\n",
      "                for item in jsondata['data']['children']:\n",
      "                    if item['data']['score'] != 0:\n",
      "                        scores.update({item['data']['id'] : item['data']['score']})\n",
      "    try:\n",
      "        scores.pop(postid)\n",
      "    except:\n",
      "        pass\n",
      "        \n",
      "    return scores.values()\n",
      "\n",
      "\n"
     ],
     "language": "python",
     "metadata": {},
     "outputs": [],
     "prompt_number": 27
    },
    {
     "cell_type": "markdown",
     "metadata": {},
     "source": [
      "In this file we tried to generate trigrams in titles. \n",
      "\n",
      "Based on those we searched reddit and stored the scores of the search results. \n",
      "\n",
      "If those were zero, we tried the same thing using bigrams. \n",
      "\n",
      "We were hoping that the scores in search results would tell us anything about the score of the post we were looking at.\n",
      "\n",
      "\n",
      "\n",
      "<hr>\n",
      "\n",
      "**Since this file uses old data it should not get touched anymore and will take upwards of 30 h to run**"
     ]
    },
    {
     "cell_type": "code",
     "collapsed": false,
     "input": [
      "df = pd.read_csv(\"Data/full.csv\", encoding=\"utf-8\")\n",
      "df2 = df[df['titlescore'] == '[null]']\n",
      "print len(df2)\n",
      "dfids = list(df2.index)"
     ],
     "language": "python",
     "metadata": {},
     "outputs": [
      {
       "output_type": "stream",
       "stream": "stdout",
       "text": [
        "1938\n"
       ]
      }
     ],
     "prompt_number": 9
    },
    {
     "cell_type": "code",
     "collapsed": false,
     "input": [
      "for i in range(len(df2)):\n",
      "    print df['id'][dfids[i]], i\n",
      "    b = search_keyword(df['title'][dfids[i]], 100, user_agent, n=[2,2], postid=df['id'][dfids[i]], subreddit=df['subreddit'][dfids[i]])\n",
      "    if len(b) > 0:\n",
      "        df['titlescore'][dfids[i]] = np.mean(b)\n",
      "        df['titlestd'][dfids[i]] = np.std(b)\n",
      "    print df['titlescore'][dfids[i]]\n",
      "\n",
      "#df.to_csv(\"Data/titlescorebigram.csv\", index=False, encoding='utf-8')"
     ],
     "language": "python",
     "metadata": {},
     "outputs": [
      {
       "metadata": {},
       "output_type": "pyout",
       "prompt_number": 15,
       "text": [
        "\"\\nfor i in range(len(df2)):\\n    print df['id'][dfids[i]], i\\n    b = search_keyword(df['title'][dfids[i]], 100, user_agent, n=[2,2], postid=df['id'][dfids[i]], subreddit=df['subreddit'][dfids[i]])\\n    if len(b) > 0:\\n        df['titlescore'][dfids[i]] = np.mean(b)\\n        df['titlestd'][dfids[i]] = np.std(b)\\n    print df['titlescore'][dfids[i]]\\n  \""
       ]
      }
     ],
     "prompt_number": 15
    },
    {
     "cell_type": "code",
     "collapsed": false,
     "input": [
      "fulldf = pd.read_csv('Data/full.csv', encoding='utf-8')\n",
      "fulldf['titlescore'] = ['null']*len(fulldf)\n",
      "fulldf['titlestd'] = ['null']*len(fulldf)"
     ],
     "language": "python",
     "metadata": {},
     "outputs": [],
     "prompt_number": 29
    },
    {
     "cell_type": "code",
     "collapsed": false,
     "input": [
      "fulldf.columns"
     ],
     "language": "python",
     "metadata": {},
     "outputs": [
      {
       "metadata": {},
       "output_type": "pyout",
       "prompt_number": 30,
       "text": [
        "Index([author, comments, downvotes, id, score, selftext, subreddit, time_created, title, type, upvotes, karma, link_karma, alchemy, titlescore, titlestd], dtype=object)"
       ]
      }
     ],
     "prompt_number": 30
    },
    {
     "cell_type": "code",
     "collapsed": false,
     "input": [
      "for i in fulldf.index:\n",
      "    fid = fulldf['id'][i]\n",
      "    alc = df[df['id'] == fid]['titlescore']\n",
      "    fulldf['titlescore'][i] = alc\n",
      "    pop = df[df['id'] == fid]['titlestd']\n",
      "    fulldf['titlestd'][i] = pop\n",
      "    "
     ],
     "language": "python",
     "metadata": {},
     "outputs": [],
     "prompt_number": 32
    },
    {
     "cell_type": "markdown",
     "metadata": {},
     "source": [
      "On the titlescores we tried to use CDF to predict the actual score"
     ]
    },
    {
     "cell_type": "markdown",
     "metadata": {},
     "source": [
      "$$\n",
      "CDF(z) = \\frac1{2}\\left(1 + {\\rm erf}\\left(\\frac{z - \\mu}{\\sqrt{2 \\sigma^2}}\\right)\\right) \n",
      "$$"
     ]
    },
    {
     "cell_type": "code",
     "collapsed": false,
     "input": [
      "def calc_cdf(mean, std):\n",
      "    cdf_dem = (1.0 + math.erf((600-mean)/math.sqrt(2*(std**2))))/2.0\n",
      "    return 1 - cdf_dem "
     ],
     "language": "python",
     "metadata": {},
     "outputs": []
    },
    {
     "cell_type": "code",
     "collapsed": false,
     "input": [
      "df = fulldf"
     ],
     "language": "python",
     "metadata": {},
     "outputs": []
    },
    {
     "cell_type": "code",
     "collapsed": false,
     "input": [
      "#clean the data\n",
      "df['titlescore'] = df['titlescore'].apply(lambda x: x[1:-1])\n",
      "df['titlestd'] = df['titlestd'].apply(lambda x: x[1:-1])\n",
      "\n",
      "df = df[df['titlescore'] != 'null']\n",
      "df = df[df['titlescore'] != '#N/A']\n",
      "df['titlescore'] = df['titlescore'].apply(lambda x:float(x))\n",
      "df['titlestd'] = df['titlestd'].apply(lambda x:float(x))\n",
      "    "
     ],
     "language": "python",
     "metadata": {},
     "outputs": []
    },
    {
     "cell_type": "code",
     "collapsed": false,
     "input": [
      "#get the cdf\n",
      "df['probprob'] = ['null'] * len(df)\n",
      "for i in df.index:\n",
      "    df['probprob'][i] = calc_cdf(df['titlescore'][i], df['titlestd'][i])"
     ],
     "language": "python",
     "metadata": {},
     "outputs": [],
     "prompt_number": 16
    },
    {
     "cell_type": "code",
     "collapsed": false,
     "input": [
      "df['probprob'] = df['probprob'].astype(float)"
     ],
     "language": "python",
     "metadata": {},
     "outputs": [],
     "prompt_number": 17
    },
    {
     "cell_type": "code",
     "collapsed": false,
     "input": [
      "pearsonr(df['probprob'], df['score'])"
     ],
     "language": "python",
     "metadata": {},
     "outputs": []
    },
    {
     "cell_type": "markdown",
     "metadata": {},
     "source": [
      "Unfortunately this yielded a pearsonr of ca. 10% which is nothing we want to use in our model. We still wanted to improve those numbers. We thought, normalizing the data might do the trick. For that we take the titlescore and divide it by the average score of the current type and subreddit we are looking at."
     ]
    },
    {
     "cell_type": "code",
     "collapsed": false,
     "input": [
      "subs = list(df['subreddit'].unique()) \n",
      "types = list(df['type'].unique())"
     ],
     "language": "python",
     "metadata": {},
     "outputs": [],
     "prompt_number": 18
    },
    {
     "cell_type": "code",
     "collapsed": false,
     "input": [
      "'''\n",
      "df['titlescore'] = df['titlescore'].apply(lambda x: x[1:-1])\n",
      "\n",
      "null_df = df[df['titlescore'] == 'null']\n",
      "na_df = df[df['titlescore'] == '#N/A']\n",
      "dfids = list(null_df.index)\n",
      "for i in range(len(dfids)):\n",
      "   df['titlescore'][dfids[i]] = '0'\n",
      "dfids = list(na_df.index)\n",
      "for i in range(len(dfids)):\n",
      "   df['titlescore'][dfids[i]] = '0'\n",
      "            \n",
      "df['titlescore'] = df['titlescore'].apply(lambda x:float(x))\n",
      "'''"
     ],
     "language": "python",
     "metadata": {},
     "outputs": []
    },
    {
     "cell_type": "code",
     "collapsed": false,
     "input": [
      "df['normalized_titlescore'] = ['null']*len(df)\n",
      "for sub in subs:\n",
      "    curr_df = df[df['subreddit'] == sub]\n",
      "    for ctype in types:\n",
      "        current_df = curr_df[curr_df['type'] == ctype]\n",
      "        curr_mean =  current_df['score'].mean()\n",
      "        dfids = list(current_df.index)\n",
      "        for i in range(len(dfids)):\n",
      "           df['normalized_titlescore'][dfids[i]] = df['titlescore'][dfids[i]]/curr_mean"
     ],
     "language": "python",
     "metadata": {},
     "outputs": []
    },
    {
     "cell_type": "code",
     "collapsed": false,
     "input": [
      "df2 = pd.read_csv('Data/full2.csv', encoding='utf-8')"
     ],
     "language": "python",
     "metadata": {},
     "outputs": [],
     "prompt_number": 19
    },
    {
     "cell_type": "code",
     "collapsed": false,
     "input": [
      "df2= df2[df2['normalized_titlescore'] != 0]\n",
      "pearsonr(df2['normalized_titlescore'], df2['score'])"
     ],
     "language": "python",
     "metadata": {},
     "outputs": [
      {
       "metadata": {},
       "output_type": "pyout",
       "prompt_number": 20,
       "text": [
        "(-0.13039151874449112, 7.9110685237525519e-160)"
       ]
      }
     ],
     "prompt_number": 20
    },
    {
     "cell_type": "code",
     "collapsed": false,
     "input": [
      "df2['titlestd'] = df2['titlestd'].apply(lambda x: x[1:-1])\n",
      "df2= df2[df2['titlestd'] != 'null']\n",
      "df2= df2[df2['titlestd'] != '#N/A']"
     ],
     "language": "python",
     "metadata": {},
     "outputs": [],
     "prompt_number": 21
    },
    {
     "cell_type": "code",
     "collapsed": false,
     "input": [
      "\n",
      "df2['titlestd'] = df2['titlestd'].apply(lambda x:float(x))"
     ],
     "language": "python",
     "metadata": {},
     "outputs": [],
     "prompt_number": 22
    },
    {
     "cell_type": "code",
     "collapsed": false,
     "input": [
      "plt.scatter(df2['titlestd'], df2['score'], c='g')\n",
      "plt.title(\"Std versus Score\")\n",
      "plt.xlabel(\"Std\")\n",
      "plt.ylabel(\"Score\")\n",
      "plt.xlim(0, 2000)\n",
      "plt.ylim(0, 8000)\n",
      "plt.show()\n",
      "r_row, p_value = pearsonr(df2['titlestd'], df2['score'])\n",
      "print \"Pearson coefficient is\" + str(r_row) + \" with a p-value of \" + str(p_value)"
     ],
     "language": "python",
     "metadata": {},
     "outputs": [
      {
       "metadata": {},
       "output_type": "display_data",
       "png": "[encoded data removed]",
       "text": [
        "<matplotlib.figure.Figure at 0x26bf6cc0>"
       ]
      },
      {
       "output_type": "stream",
       "stream": "stdout",
       "text": [
        "Pearson coefficient is0.153435569189 with a p-value of 3.04008690448e-221\n"
       ]
      }
     ],
     "prompt_number": 28
    },
    {
     "cell_type": "markdown",
     "metadata": {},
     "source": [
      "As you can see, neither the normalized titlescore nor the standard deviation of the scores of the search results have any statistical significance fot our model. We ended this experiment at this point as we made no progress and tried different things."
     ]
    },
    {
     "cell_type": "code",
     "collapsed": false,
     "input": [],
     "language": "python",
     "metadata": {},
     "outputs": []
    }
   ],
   "metadata": {}
  }
 ]
}