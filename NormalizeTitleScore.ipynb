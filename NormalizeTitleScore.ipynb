{
 "metadata": {
  "name": ""
 },
 "nbformat": 3,
 "nbformat_minor": 0,
 "worksheets": [
  {
   "cells": [
    {
     "cell_type": "code",
     "collapsed": false,
     "input": [
      "%matplotlib inline\n",
      "\n",
      "import json\n",
      "\n",
      "import numpy as np\n",
      "import copy\n",
      "import pandas as pd\n",
      "import networkx as nx\n",
      "import requests\n",
      "from pattern import web\n",
      "import matplotlib.pyplot as plt\n",
      "import matplotlib.pylab as plt2\n",
      "from scipy.stats import pearsonr\n",
      "from datetime import datetime\n",
      "import nltk\n",
      "from sklearn.feature_extraction.text import CountVectorizer\n",
      "from sklearn.feature_extraction.text import TfidfVectorizer\n",
      "from sklearn.cross_validation import train_test_split\n",
      "from sklearn.naive_bayes import MultinomialNB\n",
      "\n",
      "# set some nicer defaults for matplotlib\n",
      "from matplotlib import rcParams\n",
      "\n",
      "#these colors come from colorbrewer2.org. Each is an RGB triplet\n",
      "dark2_colors = [(0.10588235294117647, 0.6196078431372549, 0.4666666666666667),\n",
      "                (0.8509803921568627, 0.37254901960784315, 0.00784313725490196),\n",
      "                (0.4588235294117647, 0.4392156862745098, 0.7019607843137254),\n",
      "                (0.9058823529411765, 0.1607843137254902, 0.5411764705882353),\n",
      "                (0.4, 0.6509803921568628, 0.11764705882352941),\n",
      "                (0.9019607843137255, 0.6705882352941176, 0.00784313725490196),\n",
      "                (0.6509803921568628, 0.4627450980392157, 0.11372549019607843),\n",
      "                (0.4, 0.4, 0.4)]\n",
      "\n",
      "rcParams['figure.figsize'] = (10, 6)\n",
      "rcParams['figure.dpi'] = 150\n",
      "rcParams['axes.color_cycle'] = dark2_colors\n",
      "rcParams['lines.linewidth'] = 2\n",
      "rcParams['axes.grid'] = False\n",
      "rcParams['axes.facecolor'] = 'white'\n",
      "rcParams['font.size'] = 14\n",
      "rcParams['patch.edgecolor'] = 'none'\n",
      "\n",
      "def remove_border(axes=None, top=False, right=False, left=True, bottom=True):\n",
      "    \"\"\"\n",
      "    Minimize chartjunk by stripping out unnecessary plot borders and axis ticks\n",
      "    \n",
      "    The top/right/left/bottom keywords toggle whether the corresponding plot border is drawn\n",
      "    \"\"\"\n",
      "    ax = axes or plt.gca()\n",
      "    ax.spines['top'].set_visible(top)\n",
      "    ax.spines['right'].set_visible(right)\n",
      "    ax.spines['left'].set_visible(left)\n",
      "    ax.spines['bottom'].set_visible(bottom)\n",
      "    \n",
      "    #turn off all ticks\n",
      "    ax.yaxis.set_ticks_position('none')\n",
      "    ax.xaxis.set_ticks_position('none')\n",
      "    \n",
      "    #now re-enable visibles\n",
      "    if top:\n",
      "        ax.xaxis.tick_top()\n",
      "    if bottom:\n",
      "        ax.xaxis.tick_bottom()\n",
      "    if left:\n",
      "        ax.yaxis.tick_left()\n",
      "    if right:\n",
      "        ax.yaxis.tick_right()"
     ],
     "language": "python",
     "metadata": {},
     "outputs": [],
     "prompt_number": 1
    },
    {
     "cell_type": "code",
     "collapsed": false,
     "input": [
      "df = pd.read_csv('Data/full.csv', encoding='utf-8')"
     ],
     "language": "python",
     "metadata": {},
     "outputs": [],
     "prompt_number": 41
    },
    {
     "cell_type": "code",
     "collapsed": false,
     "input": [
      "subs = list(df['subreddit'].unique()) \n",
      "types = list(df['type'].unique())"
     ],
     "language": "python",
     "metadata": {},
     "outputs": [],
     "prompt_number": 42
    },
    {
     "cell_type": "code",
     "collapsed": false,
     "input": [
      "#df = df.drop_duplicates('id')"
     ],
     "language": "python",
     "metadata": {},
     "outputs": [],
     "prompt_number": 43
    },
    {
     "cell_type": "code",
     "collapsed": false,
     "input": [
      "df['titlescore'] = df['titlescore'].apply(lambda x: x[1:-1])\n",
      "\n",
      "null_df = df[df['titlescore'] == 'null']\n",
      "na_df = df[df['titlescore'] == '#N/A']\n",
      "dfids = list(null_df.index)\n",
      "for i in range(len(dfids)):\n",
      "   df['titlescore'][dfids[i]] = '0'\n",
      "dfids = list(na_df.index)\n",
      "for i in range(len(dfids)):\n",
      "   df['titlescore'][dfids[i]] = '0'\n",
      "            \n",
      "df['titlescore'] = df['titlescore'].apply(lambda x:float(x))"
     ],
     "language": "python",
     "metadata": {},
     "outputs": [],
     "prompt_number": 44
    },
    {
     "cell_type": "code",
     "collapsed": false,
     "input": [
      "df['normalized_titlescore'] = ['null']*len(df)\n",
      "for sub in subs:\n",
      "    curr_df = df[df['subreddit'] == sub]\n",
      "    for ctype in types:\n",
      "        current_df = curr_df[curr_df['type'] == ctype]\n",
      "        curr_mean =  current_df['score'].mean()\n",
      "        dfids = list(current_df.index)\n",
      "        for i in range(len(dfids)):\n",
      "           df['normalized_titlescore'][dfids[i]] = df['titlescore'][dfids[i]]/curr_mean"
     ],
     "language": "python",
     "metadata": {},
     "outputs": [],
     "prompt_number": 45
    },
    {
     "cell_type": "code",
     "collapsed": false,
     "input": [
      "print df.head()"
     ],
     "language": "python",
     "metadata": {},
     "outputs": [
      {
       "output_type": "stream",
       "stream": "stdout",
       "text": [
        "       author  comments  downvotes      id  score  \\\n",
        "0    MrGuules       916       9302  1fgcw3   2203   \n",
        "1     Rednblu        33         20  1rmmi4     67   \n",
        "2     Rednblu        33         23  1rmmi4     64   \n",
        "3     Rednblu        33         23  1rmmi4     63   \n",
        "4  jimmysaint         8         61  1q5mrj    162   \n",
        "\n",
        "                                            selftext subreddit  time_created  \\\n",
        "0                                                NaN   atheism    1370069705   \n",
        "1                                                NaN  politics    1385616663   \n",
        "2                                                NaN  politics    1385616663   \n",
        "3                                                NaN  politics    1385616663   \n",
        "4  My first deployment ever was to a largeish air...   nosleep    1383885210   \n",
        "\n",
        "                                               title      type  upvotes  \\\n",
        "0                                 Neil deGra e Tyson   top_all    11505   \n",
        "1   a Democratic state senator resigned her seat ...       hot       87   \n",
        "2   a Democratic state senator resigned her seat ...       new       87   \n",
        "3   a Democratic state senator resigned her seat ...  top_week       86   \n",
        "4                      Afghanistan Mefloquine Dreams       hot      223   \n",
        "\n",
        "   karma  link_karma                                            alchemy  \\\n",
        "0   4016        8691  [[(0.957017, Frederik Pohl publ), (0.949638, P...   \n",
        "1      0           1  [[(0.991607, humiliating recall vote), (0.7893...   \n",
        "2      0           1  [[(0.991607, humiliating recall vote), (0.7893...   \n",
        "3      0           1  [[(0.991607, humiliating recall vote), (0.7893...   \n",
        "4      0           1  [[(0.93929, Afghanistan Mefloquine Dreams), (0...   \n",
        "\n",
        "   titlescore         titlestd normalized_titlescore  \n",
        "0    0.000000           [null]                     0  \n",
        "1   97.769874  [390.620557377]             0.6078685  \n",
        "2   97.769874  [390.620557377]              0.922686  \n",
        "3   97.769874  [390.620557377]             0.8126929  \n",
        "4    0.000000           [null]                     0  \n"
       ]
      }
     ],
     "prompt_number": 46
    },
    {
     "cell_type": "code",
     "collapsed": false,
     "input": [
      "df.to_csv('Data/full2.csv', index=False, encoding='utf-8')"
     ],
     "language": "python",
     "metadata": {},
     "outputs": [],
     "prompt_number": 47
    },
    {
     "cell_type": "code",
     "collapsed": false,
     "input": [],
     "language": "python",
     "metadata": {},
     "outputs": []
    }
   ],
   "metadata": {}
  }
 ]
}