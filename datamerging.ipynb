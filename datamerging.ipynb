{
 "metadata": {
  "name": ""
 },
 "nbformat": 3,
 "nbformat_minor": 0,
 "worksheets": [
  {
   "cells": [
    {
     "cell_type": "code",
     "collapsed": false,
     "input": [
      "import pandas as pd\n",
      "import json\n",
      "import os\n",
      "import numpy as np"
     ],
     "language": "python",
     "metadata": {},
     "outputs": [],
     "prompt_number": 1
    },
    {
     "cell_type": "code",
     "collapsed": false,
     "input": [
      "file_dir = \"Data/\" #Fill in your own\n",
      "\n",
      "path, dirs, files = os.walk(file_dir).next()\n",
      "csvfiles = [file_dir + i for i in files if \".csv\" in i ] #Builds a list with .csv files\n",
      "csvfiles.sort()\n"
     ],
     "language": "python",
     "metadata": {},
     "outputs": [],
     "prompt_number": 14
    },
    {
     "cell_type": "code",
     "collapsed": false,
     "input": [
      "for v in csvfiles:\n",
      "    sr_name = v[5:]\n",
      "    sr_name = sr_name.split('.')[0]\n",
      "    df = pd.read_csv(v, encoding='utf-8')\n",
      "    sub_name = df['subreddit'][0]\n",
      "    sr_name = sr_name.split(sub_name)[1]\n",
      "    df['type'] = sr_name\n",
      "    #df.to_csv(v, index=False, encoding='utf-8')"
     ],
     "language": "python",
     "metadata": {},
     "outputs": [],
     "prompt_number": 13
    },
    {
     "cell_type": "code",
     "collapsed": false,
     "input": [
      "def filemerge(csvfiles):\n",
      "    if len(csvfiles) >= 2:\n",
      "        df = pd.DataFrame()\n",
      "        for csvfile in csvfiles:\n",
      "            dfnew = pd.read_csv(csvfile, encoding='utf-8')\n",
      "            df = df.append(dfnew)\n",
      "        return df\n",
      "    else:\n",
      "        print 'Not enough files'\n",
      "    "
     ],
     "language": "python",
     "metadata": {},
     "outputs": [],
     "prompt_number": 15
    },
    {
     "cell_type": "code",
     "collapsed": false,
     "input": [
      "filemerge(csvfiles).to_csv('big.csv', index=False, encoding='utf-8')"
     ],
     "language": "python",
     "metadata": {},
     "outputs": [],
     "prompt_number": 18
    },
    {
     "cell_type": "code",
     "collapsed": false,
     "input": [],
     "language": "python",
     "metadata": {},
     "outputs": []
    }
   ],
   "metadata": {}
  }
 ]
}