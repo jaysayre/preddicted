{
 "metadata": {
  "name": ""
 },
 "nbformat": 3,
 "nbformat_minor": 0,
 "worksheets": [
  {
   "cells": [
    {
     "cell_type": "code",
     "collapsed": false,
     "input": [
      "%matplotlib inline\n",
      "\n",
      "import pandas as pd\n",
      "import numpy as np\n",
      "import json\n",
      "import os\n",
      "import matplotlib.pyplot as plt\n",
      "import matplotlib.pylab as plt2\n",
      "import string\n",
      "\n",
      "pd.set_option('display.width', 500)\n",
      "pd.set_option('display.max_columns', 30)\n",
      "\n",
      "# set some nicer defaults for matplotlib\n",
      "from matplotlib import rcParams\n",
      "\n",
      "#these colors come from colorbrewer2.org. Each is an RGB triplet\n",
      "dark2_colors = [(0.10588235294117647, 0.6196078431372549, 0.4666666666666667),\n",
      "                (0.8509803921568627, 0.37254901960784315, 0.00784313725490196),\n",
      "                (0.4588235294117647, 0.4392156862745098, 0.7019607843137254),\n",
      "                (0.9058823529411765, 0.1607843137254902, 0.5411764705882353),\n",
      "                (0.4, 0.6509803921568628, 0.11764705882352941),\n",
      "                (0.9019607843137255, 0.6705882352941176, 0.00784313725490196),\n",
      "                (0.6509803921568628, 0.4627450980392157, 0.11372549019607843),\n",
      "                (0.4, 0.4, 0.4)]\n",
      "\n",
      "rcParams['figure.figsize'] = (10, 6)\n",
      "rcParams['figure.dpi'] = 150\n",
      "rcParams['axes.color_cycle'] = dark2_colors\n",
      "rcParams['lines.linewidth'] = 2\n",
      "rcParams['axes.grid'] = False\n",
      "rcParams['axes.facecolor'] = 'white'\n",
      "rcParams['font.size'] = 14\n",
      "rcParams['patch.edgecolor'] = 'none'\n",
      "\n",
      "\n",
      "def remove_border(axes=None, top=False, right=False, left=True, bottom=True):\n",
      "    \"\"\"\n",
      "    Minimize chartjunk by stripping out unnecessary plot borders and axis ticks\n",
      "    \n",
      "    The top/right/left/bottom keywords toggle whether the corresponding plot border is drawn\n",
      "    \"\"\"\n",
      "    ax = axes or plt.gca()\n",
      "    ax.spines['top'].set_visible(top)\n",
      "    ax.spines['right'].set_visible(right)\n",
      "    ax.spines['left'].set_visible(left)\n",
      "    ax.spines['bottom'].set_visible(bottom)\n",
      "    \n",
      "    #turn off all ticks\n",
      "    ax.yaxis.set_ticks_position('none')\n",
      "    ax.xaxis.set_ticks_position('none')\n",
      "    \n",
      "    #now re-enable visibles\n",
      "    if top:\n",
      "        ax.xaxis.tick_top()\n",
      "    if bottom:\n",
      "        ax.xaxis.tick_bottom()\n",
      "    if left:\n",
      "        ax.yaxis.tick_left()\n",
      "    if right:\n",
      "        ax.yaxis.tick_right()"
     ],
     "language": "python",
     "metadata": {},
     "outputs": [],
     "prompt_number": 1
    },
    {
     "cell_type": "code",
     "collapsed": false,
     "input": [
      "file_dir = \"Data/\"\n",
      "\n",
      "path, dirs, files = os.walk(file_dir).next()\n",
      "csvfiles = [file_dir + i for i in files if \".csv\" in i ] #Builds a list with .csv files\n",
      "csvfiles.sort()"
     ],
     "language": "python",
     "metadata": {},
     "outputs": [],
     "prompt_number": 2
    },
    {
     "cell_type": "code",
     "collapsed": false,
     "input": [
      "big_table = pd.read_csv(csvfiles[0], encoding='utf-8')\n",
      "big_table = big_table[big_table['author'] != \"deleted\"]"
     ],
     "language": "python",
     "metadata": {},
     "outputs": [],
     "prompt_number": 3
    },
    {
     "cell_type": "code",
     "collapsed": false,
     "input": [
      "print \"Number of distinct authors: \", len(big_table.groupby('author'))"
     ],
     "language": "python",
     "metadata": {},
     "outputs": [
      {
       "output_type": "stream",
       "stream": "stdout",
       "text": [
        "Number of distinct authors:  "
       ]
      },
      {
       "output_type": "stream",
       "stream": "stdout",
       "text": [
        "17238\n"
       ]
      }
     ],
     "prompt_number": 4
    },
    {
     "cell_type": "markdown",
     "metadata": {},
     "source": [
      "We will create grouped tables in order to explore the data"
     ]
    },
    {
     "cell_type": "code",
     "collapsed": false,
     "input": [
      "author_table = big_table.groupby('author')\n",
      "author_count = author_table['author'].count()"
     ],
     "language": "python",
     "metadata": {},
     "outputs": [],
     "prompt_number": 5
    },
    {
     "cell_type": "markdown",
     "metadata": {},
     "source": [
      "How many posts do the most active author have?"
     ]
    },
    {
     "cell_type": "code",
     "collapsed": false,
     "input": [
      "author_count.sort()"
     ],
     "language": "python",
     "metadata": {},
     "outputs": [],
     "prompt_number": 6
    },
    {
     "cell_type": "code",
     "collapsed": false,
     "input": [
      "author_count[-20:]"
     ],
     "language": "python",
     "metadata": {},
     "outputs": [
      {
       "metadata": {},
       "output_type": "pyout",
       "prompt_number": 7,
       "text": [
        "author\n",
        "unmined                16\n",
        "DrunkenBlackBelt       16\n",
        "TreasureHouseofDoom    17\n",
        "grapp                  19\n",
        "TollhouseFrank         19\n",
        "Gambatte               21\n",
        "urbanteller            21\n",
        "bloodstains            21\n",
        "throwaway              22\n",
        "paulasutton            23\n",
        "inaaace                25\n",
        "Techsupportvictim      26\n",
        "jon                    26\n",
        "kokain                 28\n",
        "scheller               36\n",
        "kaykhosrow             38\n",
        "yupko                  40\n",
        "AL                     48\n",
        "Vladith                62\n",
        "FredFltStn             69\n",
        "dtype: int64"
       ]
      }
     ],
     "prompt_number": 7
    },
    {
     "cell_type": "markdown",
     "metadata": {},
     "source": [
      "We will plot the number of posts of each individual author."
     ]
    },
    {
     "cell_type": "code",
     "collapsed": false,
     "input": [
      "plt.hist(author_count, bins = 20, log=True)\n",
      "remove_border()"
     ],
     "language": "python",
     "metadata": {},
     "outputs": [
      {
       "metadata": {},
       "output_type": "display_data",
       "png": "[encoded data removed]",
       "text": [
        "<matplotlib.figure.Figure at 0x8941828>"
       ]
      }
     ],
     "prompt_number": 8
    },
    {
     "cell_type": "code",
     "collapsed": false,
     "input": [
      "successful_authors = big_table[author_table.author.transform(lambda x: x.count() > 1).astype('bool')]\n",
      "authorset = set()\n",
      "for a in successful_authors.index:\n",
      "    authorset.add(successful_authors.ix[a]['author'])\n",
      "print \"number of authors with more than 1 submission: \", len(authorset)\n",
      "#print \"Their names are:\"\n",
      "#for a in authorset:\n",
      "#    print a"
     ],
     "language": "python",
     "metadata": {},
     "outputs": [
      {
       "output_type": "stream",
       "stream": "stdout",
       "text": [
        "number of authors with more than 1 submission:  4921\n"
       ]
      }
     ],
     "prompt_number": 9
    },
    {
     "cell_type": "markdown",
     "metadata": {},
     "source": [
      "You can see that there is a small number of viral posts in the hot section of askreddit with >10,000 comments and a very high score. The vast majority of the hottest posts have less than 2,500 comments."
     ]
    },
    {
     "cell_type": "code",
     "collapsed": false,
     "input": [
      "plt.hist(big_table['comments'], bins = 50, log=True)\n",
      "plt.title(\"comment number distribution\")\n",
      "remove_border()\n",
      "plt.show()\n",
      "'''\n",
      "plt.hist(big_table['score'], bins = 50, log=True)\n",
      "plt.title(\"score distribution\")\n",
      "remove_border()\n",
      "plt.show()\n",
      "'''"
     ],
     "language": "python",
     "metadata": {},
     "outputs": [
      {
       "ename": "AttributeError",
       "evalue": "max must be larger than min in range parameter.",
       "output_type": "pyerr",
       "traceback": [
        "\u001b[1;31m---------------------------------------------------------------------------\u001b[0m\n\u001b[1;31mAttributeError\u001b[0m                            Traceback (most recent call last)",
        "\u001b[1;32m<ipython-input-10-ab6ad3db2837>\u001b[0m in \u001b[0;36m<module>\u001b[1;34m()\u001b[0m\n\u001b[1;32m----> 1\u001b[1;33m \u001b[0mplt\u001b[0m\u001b[1;33m.\u001b[0m\u001b[0mhist\u001b[0m\u001b[1;33m(\u001b[0m\u001b[0mbig_table\u001b[0m\u001b[1;33m[\u001b[0m\u001b[1;34m'comments'\u001b[0m\u001b[1;33m]\u001b[0m\u001b[1;33m,\u001b[0m \u001b[0mbins\u001b[0m \u001b[1;33m=\u001b[0m \u001b[1;36m50\u001b[0m\u001b[1;33m,\u001b[0m \u001b[0mlog\u001b[0m\u001b[1;33m=\u001b[0m\u001b[0mTrue\u001b[0m\u001b[1;33m)\u001b[0m\u001b[1;33m\u001b[0m\u001b[0m\n\u001b[0m\u001b[0;32m      2\u001b[0m \u001b[0mplt\u001b[0m\u001b[1;33m.\u001b[0m\u001b[0mtitle\u001b[0m\u001b[1;33m(\u001b[0m\u001b[1;34m\"comment number distribution\"\u001b[0m\u001b[1;33m)\u001b[0m\u001b[1;33m\u001b[0m\u001b[0m\n\u001b[0;32m      3\u001b[0m \u001b[0mremove_border\u001b[0m\u001b[1;33m(\u001b[0m\u001b[1;33m)\u001b[0m\u001b[1;33m\u001b[0m\u001b[0m\n\u001b[0;32m      4\u001b[0m \u001b[0mplt\u001b[0m\u001b[1;33m.\u001b[0m\u001b[0mshow\u001b[0m\u001b[1;33m(\u001b[0m\u001b[1;33m)\u001b[0m\u001b[1;33m\u001b[0m\u001b[0m\n\u001b[0;32m      5\u001b[0m '''\n",
        "\u001b[1;32mC:\\Anaconda\\lib\\site-packages\\matplotlib\\pyplot.pyc\u001b[0m in \u001b[0;36mhist\u001b[1;34m(x, bins, range, normed, weights, cumulative, bottom, histtype, align, orientation, rwidth, log, color, label, stacked, hold, **kwargs)\u001b[0m\n\u001b[0;32m   2825\u001b[0m                       \u001b[0mhisttype\u001b[0m\u001b[1;33m=\u001b[0m\u001b[0mhisttype\u001b[0m\u001b[1;33m,\u001b[0m \u001b[0malign\u001b[0m\u001b[1;33m=\u001b[0m\u001b[0malign\u001b[0m\u001b[1;33m,\u001b[0m \u001b[0morientation\u001b[0m\u001b[1;33m=\u001b[0m\u001b[0morientation\u001b[0m\u001b[1;33m,\u001b[0m\u001b[1;33m\u001b[0m\u001b[0m\n\u001b[0;32m   2826\u001b[0m                       \u001b[0mrwidth\u001b[0m\u001b[1;33m=\u001b[0m\u001b[0mrwidth\u001b[0m\u001b[1;33m,\u001b[0m \u001b[0mlog\u001b[0m\u001b[1;33m=\u001b[0m\u001b[0mlog\u001b[0m\u001b[1;33m,\u001b[0m \u001b[0mcolor\u001b[0m\u001b[1;33m=\u001b[0m\u001b[0mcolor\u001b[0m\u001b[1;33m,\u001b[0m \u001b[0mlabel\u001b[0m\u001b[1;33m=\u001b[0m\u001b[0mlabel\u001b[0m\u001b[1;33m,\u001b[0m\u001b[1;33m\u001b[0m\u001b[0m\n\u001b[1;32m-> 2827\u001b[1;33m                       stacked=stacked, **kwargs)\n\u001b[0m\u001b[0;32m   2828\u001b[0m         \u001b[0mdraw_if_interactive\u001b[0m\u001b[1;33m(\u001b[0m\u001b[1;33m)\u001b[0m\u001b[1;33m\u001b[0m\u001b[0m\n\u001b[0;32m   2829\u001b[0m     \u001b[1;32mfinally\u001b[0m\u001b[1;33m:\u001b[0m\u001b[1;33m\u001b[0m\u001b[0m\n",
        "\u001b[1;32mC:\\Anaconda\\lib\\site-packages\\matplotlib\\axes.pyc\u001b[0m in \u001b[0;36mhist\u001b[1;34m(self, x, bins, range, normed, weights, cumulative, bottom, histtype, align, orientation, rwidth, log, color, label, stacked, **kwargs)\u001b[0m\n\u001b[0;32m   8322\u001b[0m             \u001b[1;31m# this will automatically overwrite bins,\u001b[0m\u001b[1;33m\u001b[0m\u001b[1;33m\u001b[0m\u001b[0m\n\u001b[0;32m   8323\u001b[0m             \u001b[1;31m# so that each histogram uses the same bins\u001b[0m\u001b[1;33m\u001b[0m\u001b[1;33m\u001b[0m\u001b[0m\n\u001b[1;32m-> 8324\u001b[1;33m             \u001b[0mm\u001b[0m\u001b[1;33m,\u001b[0m \u001b[0mbins\u001b[0m \u001b[1;33m=\u001b[0m \u001b[0mnp\u001b[0m\u001b[1;33m.\u001b[0m\u001b[0mhistogram\u001b[0m\u001b[1;33m(\u001b[0m\u001b[0mx\u001b[0m\u001b[1;33m[\u001b[0m\u001b[0mi\u001b[0m\u001b[1;33m]\u001b[0m\u001b[1;33m,\u001b[0m \u001b[0mbins\u001b[0m\u001b[1;33m,\u001b[0m \u001b[0mweights\u001b[0m\u001b[1;33m=\u001b[0m\u001b[0mw\u001b[0m\u001b[1;33m[\u001b[0m\u001b[0mi\u001b[0m\u001b[1;33m]\u001b[0m\u001b[1;33m,\u001b[0m \u001b[1;33m**\u001b[0m\u001b[0mhist_kwargs\u001b[0m\u001b[1;33m)\u001b[0m\u001b[1;33m\u001b[0m\u001b[0m\n\u001b[0m\u001b[0;32m   8325\u001b[0m             \u001b[0mm\u001b[0m \u001b[1;33m=\u001b[0m \u001b[0mm\u001b[0m\u001b[1;33m.\u001b[0m\u001b[0mastype\u001b[0m\u001b[1;33m(\u001b[0m\u001b[0mfloat\u001b[0m\u001b[1;33m)\u001b[0m \u001b[1;31m# causes problems later if it's an int\u001b[0m\u001b[1;33m\u001b[0m\u001b[0m\n\u001b[0;32m   8326\u001b[0m             \u001b[1;32mif\u001b[0m \u001b[0mmlast\u001b[0m \u001b[1;32mis\u001b[0m \u001b[0mNone\u001b[0m\u001b[1;33m:\u001b[0m\u001b[1;33m\u001b[0m\u001b[0m\n",
        "\u001b[1;32mC:\\Anaconda\\lib\\site-packages\\numpy\\lib\\function_base.pyc\u001b[0m in \u001b[0;36mhistogram\u001b[1;34m(a, bins, range, normed, weights, density)\u001b[0m\n\u001b[0;32m    158\u001b[0m         \u001b[1;32mif\u001b[0m \u001b[1;33m(\u001b[0m\u001b[0mmn\u001b[0m \u001b[1;33m>\u001b[0m \u001b[0mmx\u001b[0m\u001b[1;33m)\u001b[0m\u001b[1;33m:\u001b[0m\u001b[1;33m\u001b[0m\u001b[0m\n\u001b[0;32m    159\u001b[0m             raise AttributeError(\n\u001b[1;32m--> 160\u001b[1;33m                 'max must be larger than min in range parameter.')\n\u001b[0m\u001b[0;32m    161\u001b[0m \u001b[1;33m\u001b[0m\u001b[0m\n\u001b[0;32m    162\u001b[0m     \u001b[1;32mif\u001b[0m \u001b[1;32mnot\u001b[0m \u001b[0miterable\u001b[0m\u001b[1;33m(\u001b[0m\u001b[0mbins\u001b[0m\u001b[1;33m)\u001b[0m\u001b[1;33m:\u001b[0m\u001b[1;33m\u001b[0m\u001b[0m\n",
        "\u001b[1;31mAttributeError\u001b[0m: max must be larger than min in range parameter."
       ]
      },
      {
       "metadata": {},
       "output_type": "display_data",
       "png": "[encoded data removed]",
       "text": [
        "<matplotlib.figure.Figure at 0x1083e0f0>"
       ]
      }
     ],
     "prompt_number": 10
    },
    {
     "cell_type": "markdown",
     "metadata": {},
     "source": [
      "Plotting the two histograms you can notice the similarity of them. Both have a huge amount of posts with low score and few comments and some really successful posts with a lot of posts and a high score. In order to check how those two are correlated we will do a scatter plot"
     ]
    },
    {
     "cell_type": "code",
     "collapsed": false,
     "input": [
      "#regression line\n",
      "m_fit,b_fit = plt2.polyfit(big_table.comments, big_table.score, 1) \n",
      "plt2.plot(big_table.comments, big_table.score, 'yo', big_table.comments, m_fit*big_table.comments+b_fit, color='purple', alpha=0.3) \n",
      "plt.title(\"Comments versus Score\")\n",
      "plt.xlabel(\"Comments\")\n",
      "plt.ylabel(\"Score\")\n",
      "plt.xlim(-10, max(big_table.comments) * 1.05)\n",
      "plt.ylim(-10, max(big_table.score) * 1.05 )\n",
      "remove_border()\n"
     ],
     "language": "python",
     "metadata": {},
     "outputs": []
    },
    {
     "cell_type": "markdown",
     "metadata": {},
     "source": [
      "You can see that there is a strong linear correlation between number of comments and the score. You can also see that the line of best fit is well below the \"viral\" posts. This is due to the high number of unsuccessful posts in the bottom left part of the plot. This indicates that viral posts have a higher score/comment ratio than you would expect. Maybe you could use this knowledge to predict successful posts later.\n",
      "Since we are only looking at one subreddit at the time we would like to compare different subreddits. That's why we are implementing a function to generate all the visualizations for us."
     ]
    },
    {
     "cell_type": "code",
     "collapsed": false,
     "input": [
      "big_table_filtered = big_table[big_table['comments'] < 40]\n",
      "big_table_filtered = big_table_filtered[big_table_filtered['score'] < 15]\n",
      "\n",
      "plt.scatter(big_table_filtered.comments, big_table_filtered.score, alpha=0.2)\n",
      "plt.title(\"Comments versus Score\")\n",
      "plt.xlabel(\"Comments\")\n",
      "plt.ylabel(\"Score\")\n",
      "plt.xlim(-1, max(big_table_filtered.comments) * 1.05)\n",
      "plt.ylim(-1, max(big_table_filtered.score) * 1.05 )\n",
      "remove_border()"
     ],
     "language": "python",
     "metadata": {},
     "outputs": []
    },
    {
     "cell_type": "markdown",
     "metadata": {},
     "source": [
      "When trying to visualize trying to visualize filtered data where we filtered out successful posts we saw that there seems to be no correlation between comments and score as almost every combination of those two exist in that score range. Since we want to predict the post when it still is in the lower bottom part of the chart, the ratio might not be an optimal indicator of whether a posts can be successful."
     ]
    },
    {
     "cell_type": "code",
     "collapsed": false,
     "input": [
      "def get_sub_stats(subreddit):\n",
      "    author_table = subreddit.groupby('author')\n",
      "    dist_authors = len(subreddit.groupby('author'))\n",
      "    #print \"Number of distinct authors: \", dist_authors\n",
      "    successful_authors = subreddit[author_table.author.transform(lambda x: x.count() > 1).astype('bool')]\n",
      "    authorset = set()\n",
      "    for a in successful_authors.index:\n",
      "        authorset.add(successful_authors.ix[a]['author'])\n",
      "    active_users = len(authorset)\n",
      "    #print \"number of authors with more than 1 submission in the top 1000: \", active_users\n",
      "    \n",
      "    succ_ratio = float(active_users) / dist_authors\n",
      "    return active_users, dist_authors, succ_ratio\n",
      "    "
     ],
     "language": "python",
     "metadata": {},
     "outputs": []
    },
    {
     "cell_type": "markdown",
     "metadata": {},
     "source": [
      "We wrote this funtion in order to find out whether there are super users that are in all top lists. We suspected that there are some users that are famous within the community that get a higher score based on their name and not their submission. That's why we tested how many distinct users there are in the data set and what percentage of them have multiple submissions in the top lists."
     ]
    },
    {
     "cell_type": "code",
     "collapsed": false,
     "input": [
      "author_week_list = []\n",
      "author_all_list = []\n",
      "author_new_list = []\n",
      "\n",
      "for i, v in enumerate(csvfiles):\n",
      "    sr_name = string.split(v, sep='\\\\')[-1]\n",
      "    sr_name = sr_name[5:]\n",
      "    sr_name = string.split(sr_name, sep='.')[0]\n",
      "    \n",
      "    sr_stats = get_sub_stats(pd.read_csv(csvfiles[i], encoding='utf-8'))\n",
      "    if \"new\" in sr_name:\n",
      "        author_new_list.append((sr_name, sr_stats))\n",
      "    elif \"_all\" in sr_name:\n",
      "        author_all_list.append((sr_name, sr_stats))\n",
      "    else:\n",
      "        author_week_list.append((sr_name, sr_stats))\n",
      "    \n",
      "    #print \"ratio of successful users: \", sub_stats"
     ],
     "language": "python",
     "metadata": {},
     "outputs": []
    },
    {
     "cell_type": "markdown",
     "metadata": {},
     "source": [
      "After we created the arrays with the information about authors we need to plot them. Since we want to look at two values a scatterplot is the best way to visualize it. "
     ]
    },
    {
     "cell_type": "code",
     "collapsed": false,
     "input": [
      "def plot_author_success(successlist, title):\n",
      "    xvals = [a[1][0] for a in successlist]\n",
      "    yvals = [a[1][2] for a in successlist]\n",
      "    labellist = [a[0] for a in successlist]\n",
      "    #plt.annotate([a[0] for a in author_week_list], xy=(1, 10), xytext=(1, 20))\n",
      "    \n",
      "    fig, ax = plt.subplots()\n",
      "    ax.scatter(xvals, yvals)\n",
      "    \n",
      "    for i, txt in enumerate(labellist):\n",
      "        ax.annotate(txt, (xvals[i],yvals[i]))\n",
      "    plt.title(title)\n",
      "    plt.xlabel(\"No distinct users\")\n",
      "    plt.ylabel(\"fraction of users with multiple posts\")\n",
      "    remove_border()"
     ],
     "language": "python",
     "metadata": {},
     "outputs": []
    },
    {
     "cell_type": "code",
     "collapsed": false,
     "input": [
      "plot_author_success(author_week_list, \"SUCCESS OF THE WEEK\")\n",
      "\n",
      "plot_author_success(author_all_list, \"ALLTIME SUCCESS\")\n",
      "\n",
      "plot_author_success(author_new_list, \"NEW SUCCESS\")"
     ],
     "language": "python",
     "metadata": {},
     "outputs": []
    },
    {
     "cell_type": "markdown",
     "metadata": {},
     "source": [
      "As you can see above there are definitely subreddits where a higher fraction of the users is more active and has more successful posts. If there were no highly active users you would expect every plot to look like a steady line parallel to the x-axis. It is however almost a linear increase of fraction of active users with the increase of distinct users."
     ]
    },
    {
     "cell_type": "code",
     "collapsed": false,
     "input": [
      "def plot_subr_data(subreddit):\n",
      "    '''\n",
      "    plt.hist(subreddit['comments'], bins = 50, log=True)\n",
      "    plt.title(\"comment number distribution\")\n",
      "    '''\n",
      "    X_plot,Y_plot = plt2.polyfit(subreddit.comments, subreddit.score, 1) \n",
      "    plt2.plot(subreddit.comments, subreddit.score, 'yo', subreddit.comments, X_plot*subreddit.comments+Y_plot , color='purple', alpha=0.3) \n",
      "    \n",
      "    plt.title(\"Comments versus Score\")\n",
      "    plt.xlabel(\"Comments\")\n",
      "    plt.ylabel(\"Score\")\n",
      "    #plt.xlim(-10, 13000)\n",
      "    #plt.ylim(-10, 2700)\n",
      "    remove_border()\n",
      "    "
     ],
     "language": "python",
     "metadata": {},
     "outputs": []
    },
    {
     "cell_type": "code",
     "collapsed": false,
     "input": [
      "for i, v in enumerate(csvfiles):\n",
      "    print i\n",
      "    print \"SUBREDDIT: \", string.split(v, sep='\\\\')[-1]\n",
      "    curr_sub = pd.read_csv(csvfiles[i], encoding='utf-8')\n",
      "    plot_subr_data(curr_sub)\n",
      "    plt.show()"
     ],
     "language": "python",
     "metadata": {},
     "outputs": []
    },
    {
     "cell_type": "markdown",
     "metadata": {},
     "source": [
      "BUGS:\n",
      "\n",
      "- Sometimes text in the number cells\n",
      "- different dimensions (more scores than comments)  -> scores get deleted (askredditnew)\n",
      "    "
     ]
    },
    {
     "cell_type": "code",
     "collapsed": false,
     "input": [],
     "language": "python",
     "metadata": {},
     "outputs": []
    }
   ],
   "metadata": {}
  }
 ]
}