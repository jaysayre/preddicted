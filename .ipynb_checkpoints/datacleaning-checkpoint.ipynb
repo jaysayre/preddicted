{
 "metadata": {
  "name": ""
 },
 "nbformat": 3,
 "nbformat_minor": 0,
 "worksheets": [
  {
   "cells": [
    {
     "cell_type": "code",
     "collapsed": false,
     "input": [
      "import time\n",
      "import pandas as pd\n",
      "import numpy as np\n",
      "import json\n",
      "import os\n",
      "import urllib\n",
      "import urllib2\n",
      "import datetime"
     ],
     "language": "python",
     "metadata": {},
     "outputs": [],
     "prompt_number": 67
    },
    {
     "cell_type": "code",
     "collapsed": false,
     "input": [
      "file_dir = \"Data/\" #Fill in your own\n",
      "\n",
      "path, dirs, files = os.walk(file_dir).next()\n",
      "csvfiles = [file_dir + i for i in files if \".csv\" in i ] #Builds a list with .csv files\n",
      "csvfiles.sort()"
     ],
     "language": "python",
     "metadata": {},
     "outputs": [],
     "prompt_number": 68
    },
    {
     "cell_type": "code",
     "collapsed": false,
     "input": [
      "#Function to determine if float\n",
      "def isfloat(x):\n",
      "    try:\n",
      "        float(x)\n",
      "        return True\n",
      "    except:\n",
      "        return False\n",
      "\n",
      "#Function to clean strings\n",
      "def filterstr(x):\n",
      "    try:\n",
      "        y= ''.join(e for e in x if (e == ' ' or e.isalnum()) and not e.isdigit())\n",
      "        return y\n",
      "    except:\n",
      "        return ''"
     ],
     "language": "python",
     "metadata": {},
     "outputs": [],
     "prompt_number": 69
    },
    {
     "cell_type": "code",
     "collapsed": false,
     "input": [
      "for f in csvfiles:\n",
      "    df = pd.read_csv(f, encoding='utf-8') # Top all is our training data set\n",
      "    \n",
      "    #Filter out non-float comments\n",
      "    df=df[df['comments'].apply(lambda x: isfloat(x))]\n",
      "\n",
      "    #Filter out non-float downvotes\n",
      "    df=df[df['downvotes'].apply(lambda x: isfloat(x))]\n",
      "\n",
      "    #Filter out non-float score\n",
      "    df=df[df['score'].apply(lambda x: isfloat(x))]        \n",
      "\n",
      "    #Filter out non-float score\n",
      "    df=df[df['upvotes'].apply(lambda x: isfloat(x))] \n",
      "\n",
      "    #Filter numbers out of title strings\n",
      "    for i in range(len(df)):\n",
      "        try:\n",
      "            df['title'][i] = filterstr(df['title'][i])\n",
      "        except:\n",
      "            print ''\n",
      "\n",
      "    #Filter numbers out of author strings\n",
      "    for i in range(len(df['author'])):\n",
      "        try:\n",
      "            df['author'][i] = filterstr(df['author'][i])\n",
      "        except:\n",
      "            print ''\n",
      "    \n",
      "    #Filter numbers out of selftext strings\n",
      "    for i in range(len(df['selftext'])):\n",
      "        try:\n",
      "            df['selftext'][i] = filterstr(df['selftext'][i])\n",
      "        except:\n",
      "            print ''\n",
      "            \n",
      "    df.to_csv(f, index=False, encoding='utf-8')"
     ],
     "language": "python",
     "metadata": {},
     "outputs": [
      {
       "output_type": "stream",
       "stream": "stdout",
       "text": [
        "\n",
        "\n"
       ]
      },
      {
       "output_type": "stream",
       "stream": "stdout",
       "text": [
        "\n"
       ]
      },
      {
       "output_type": "stream",
       "stream": "stdout",
       "text": [
        "\n",
        "\n"
       ]
      },
      {
       "output_type": "stream",
       "stream": "stdout",
       "text": [
        "\n"
       ]
      }
     ],
     "prompt_number": 76
    },
    {
     "cell_type": "code",
     "collapsed": false,
     "input": [],
     "language": "python",
     "metadata": {},
     "outputs": []
    },
    {
     "cell_type": "code",
     "collapsed": false,
     "input": [],
     "language": "python",
     "metadata": {},
     "outputs": []
    },
    {
     "cell_type": "code",
     "collapsed": false,
     "input": [],
     "language": "python",
     "metadata": {},
     "outputs": []
    }
   ],
   "metadata": {}
  }
 ]
}