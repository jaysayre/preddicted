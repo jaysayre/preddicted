{
 "metadata": {
  "name": ""
 },
 "nbformat": 3,
 "nbformat_minor": 0,
 "worksheets": [
  {
   "cells": [
    {
     "cell_type": "code",
     "collapsed": false,
     "input": [
      "import pandas as pd\n",
      "import json\n",
      "import os\n",
      "import numpy as np"
     ],
     "language": "python",
     "metadata": {},
     "outputs": [],
     "prompt_number": 73
    },
    {
     "cell_type": "code",
     "collapsed": false,
     "input": [
      "file_dir = \"/home/j/Dropbox/College/Data Science/Project/intelligent-dolphins/Data/\" #Fill in your own\n",
      "\n",
      "path, dirs, files = os.walk(file_dir).next()\n",
      "csvfiles = [file_dir + i for i in files if \".csv\" in i ] #Builds a list with .csv files\n",
      "csvfiles.sort()"
     ],
     "language": "python",
     "metadata": {},
     "outputs": [],
     "prompt_number": 88
    },
    {
     "cell_type": "code",
     "collapsed": false,
     "input": [
      "csvfiles[4]"
     ],
     "language": "python",
     "metadata": {},
     "outputs": [
      {
       "metadata": {},
       "output_type": "pyout",
       "prompt_number": 115,
       "text": [
        "'/home/j/Dropbox/College/Data Science/Project/intelligent-dolphins/Data/TalesFromTechsupporttop_all.csv'"
       ]
      }
     ],
     "prompt_number": 115
    },
    {
     "cell_type": "code",
     "collapsed": false,
     "input": [
      "df = pd.read_csv(csvfiles[4], encoding='utf-8') # Top all is our training data set\n",
      "df2 = pd.read_csv(csvfiles[5], encoding='utf-8') # Top week is our test data set\n",
      "df['up/down'] = df['upvotes'].astype(float)/df['downvotes'].astype(float) # Reddit fuzzes this so... \n",
      "df2['up/down'] = df2['upvotes'].astype(float)/df2['downvotes'].astype(float)\n"
     ],
     "language": "python",
     "metadata": {},
     "outputs": [],
     "prompt_number": 157
    },
    {
     "cell_type": "markdown",
     "metadata": {},
     "source": [
      "So apparently the strings in odd places problem isn't quite solved yet, see AskReddittopall..."
     ]
    },
    {
     "cell_type": "code",
     "collapsed": false,
     "input": [
      "df=df[df['comments'].apply(lambda x: isinstance(x, basestring) == False)] \n",
      "df"
     ],
     "language": "python",
     "metadata": {},
     "outputs": [
      {
       "html": [
        "<div style=\"max-height:1000px;max-width:1500px;overflow:auto;\">\n",
        "<table border=\"1\" class=\"dataframe\">\n",
        "  <thead>\n",
        "    <tr style=\"text-align: right;\">\n",
        "      <th></th>\n",
        "      <th>author</th>\n",
        "      <th>comments</th>\n",
        "      <th>downvotes</th>\n",
        "      <th>id</th>\n",
        "      <th>score</th>\n",
        "      <th>selftext</th>\n",
        "      <th>title</th>\n",
        "      <th>upvotes</th>\n",
        "      <th>up/down</th>\n",
        "    </tr>\n",
        "  </thead>\n",
        "  <tbody>\n",
        "    <tr>\n",
        "      <th>432</th>\n",
        "      <td> NaN</td>\n",
        "      <td> NaN</td>\n",
        "      <td>NaN</td>\n",
        "      <td> NaN</td>\n",
        "      <td>NaN</td>\n",
        "      <td> NaN</td>\n",
        "      <td> NaN</td>\n",
        "      <td>NaN</td>\n",
        "      <td>NaN</td>\n",
        "    </tr>\n",
        "  </tbody>\n",
        "</table>\n",
        "</div>"
       ],
       "metadata": {},
       "output_type": "pyout",
       "prompt_number": 108,
       "text": [
        "    author comments  downvotes   id  score selftext title  upvotes  up/down\n",
        "432    NaN      NaN        NaN  NaN    NaN      NaN   NaN      NaN      NaN"
       ]
      }
     ],
     "prompt_number": 108
    },
    {
     "cell_type": "code",
     "collapsed": false,
     "input": [
      "topcomments=float(max(df['comments']))\n",
      "topsscore=float(max(df['score']))\n",
      "leastcontro = max(df['up/down'])\n",
      "# This needs to be improved. Sticking with it simply for testing purposes\n",
      "df['mymetric'] = ((df['comments'].astype(float)/topcomments)*0.10)+((df['score'].astype(float)/topsscore)*0.85)+((df['up/down']/leastcontro)*0.05)\n"
     ],
     "language": "python",
     "metadata": {},
     "outputs": [],
     "prompt_number": 158
    },
    {
     "cell_type": "code",
     "collapsed": false,
     "input": [
      "topcomments=float(max(df2['comments']))\n",
      "topsscore=float(max(df2['score']))\n",
      "leastcontro = max(df2['up/down'])\n",
      "# This needs to be improved. Sticking with it simply for testing purposes\n",
      "df2['mymetric'] = ((df2['comments'].astype(float)/topcomments)*0.10)+((df2['score'].astype(float)/topsscore)*0.85)+((df2['up/down']/leastcontro)*0.05)\n"
     ],
     "language": "python",
     "metadata": {},
     "outputs": [],
     "prompt_number": 159
    },
    {
     "cell_type": "markdown",
     "metadata": {},
     "source": [
      "So a few things about the way Reddit generates its metrics. First, I highly encourage that you read [this article on how Reddit ranks posts](http://amix.dk/blog/post/19588). Second, Reddit \"fuzzes\" the upvotes and downvotes so spambots can't manipulate the forum easily, so while the score is accurate, the number of upvotes and downvotes is not. For reference, $score = upvotes - downvotes$. Therefore, it must be that reddit adds/subtracts some unknown constant $k$ to the number of upvotes and downvotes.\n",
      "\n",
      "Currently, I've simply computed up/down as a measure of whether or not a post is controversial, but mathematically we may want to talk about methods to try to normalize this figure (if such a method exists).\n"
     ]
    },
    {
     "cell_type": "code",
     "collapsed": false,
     "input": [
      "#It's important in cross validation that the sets are disjoint, so we are removing duplicates\n",
      "dfids = list(df['id'])\n",
      "df2ids = list(df2['id'])\n",
      "\n",
      "dupids = []\n",
      "for redditid in dfids:\n",
      "    if redditid in df2ids:\n",
      "        dupids.append(redditid)\n",
      "\n",
      "#This part is slightly overengineered, but the motivation behind it is that we didn't want to simply strip out the \n",
      "#posts from other data set at will. Instead, we are splitting the duplicates in half and assigning them to one of the data sets\n",
      "#to avoid some sort of possible bias.\n",
      "if len(dupids)%2 != 0:\n",
      "    a = len(dupids)/2\n",
      "    a = a+1\n",
      "    dup1 = dupids[0:a]\n",
      "    dup2 = dupids[a:]\n",
      "else: \n",
      "    a = len(dupids)/2\n",
      "    dup1 = dupids[0:a]\n",
      "    dup2 = dupids[a:]\n",
      "    \n",
      "if np.random.randint(2) == 0:\n",
      "    df=df[df['id'].apply(lambda x: x in dup1) == False]\n",
      "    df2=df2[df2['id'].apply(lambda x: x in dup2) == False]\n",
      "else: \n",
      "    df=df[df['id'].apply(lambda x: x in dup2) == False]\n",
      "    df2=df2[df2['id'].apply(lambda x: x in dup1) == False]"
     ],
     "language": "python",
     "metadata": {},
     "outputs": [],
     "prompt_number": 160
    },
    {
     "cell_type": "code",
     "collapsed": false,
     "input": [
      "df.head(10)"
     ],
     "language": "python",
     "metadata": {},
     "outputs": [
      {
       "html": [
        "<div style=\"max-height:1000px;max-width:1500px;overflow:auto;\">\n",
        "<table border=\"1\" class=\"dataframe\">\n",
        "  <thead>\n",
        "    <tr style=\"text-align: right;\">\n",
        "      <th></th>\n",
        "      <th>author</th>\n",
        "      <th>comments</th>\n",
        "      <th>downvotes</th>\n",
        "      <th>id</th>\n",
        "      <th>score</th>\n",
        "      <th>selftext</th>\n",
        "      <th>title</th>\n",
        "      <th>upvotes</th>\n",
        "      <th>up/down</th>\n",
        "      <th>mymetric</th>\n",
        "    </tr>\n",
        "  </thead>\n",
        "  <tbody>\n",
        "    <tr>\n",
        "      <th>0</th>\n",
        "      <td>      Psychotc</td>\n",
        "      <td> 641</td>\n",
        "      <td> 1200</td>\n",
        "      <td> 13gnjm</td>\n",
        "      <td> 4005</td>\n",
        "      <td> Like most sane individuals, I am on my countri...</td>\n",
        "      <td> Providing tech support to telemarketers for fu...</td>\n",
        "      <td> 5205</td>\n",
        "      <td> 4.337500</td>\n",
        "      <td> 0.917387</td>\n",
        "    </tr>\n",
        "    <tr>\n",
        "      <th>1</th>\n",
        "      <td>    phlogiston</td>\n",
        "      <td> 489</td>\n",
        "      <td> 2178</td>\n",
        "      <td>  trffn</td>\n",
        "      <td> 3892</td>\n",
        "      <td> I thought I'd share one of my proudest moments...</td>\n",
        "      <td> It doesn't matter what it costs, please get my...</td>\n",
        "      <td> 6070</td>\n",
        "      <td> 2.786961</td>\n",
        "      <td> 0.874721</td>\n",
        "    </tr>\n",
        "    <tr>\n",
        "      <th>2</th>\n",
        "      <td>       ronearc</td>\n",
        "      <td> 416</td>\n",
        "      <td> 1613</td>\n",
        "      <td>  wc6gr</td>\n",
        "      <td> 3644</td>\n",
        "      <td> I was working graveyards, about a decade ago, ...</td>\n",
        "      <td>                    I just had to put a robe on...</td>\n",
        "      <td> 5257</td>\n",
        "      <td> 3.259144</td>\n",
        "      <td> 0.819417</td>\n",
        "    </tr>\n",
        "    <tr>\n",
        "      <th>3</th>\n",
        "      <td>     tlddotnet</td>\n",
        "      <td> 552</td>\n",
        "      <td> 2243</td>\n",
        "      <td> 17d1dw</td>\n",
        "      <td> 3370</td>\n",
        "      <td> This is a tale about bravery. Bravery in the f...</td>\n",
        "      <td>                             I am NOT fixing this.</td>\n",
        "      <td> 5613</td>\n",
        "      <td> 2.502452</td>\n",
        "      <td> 0.766876</td>\n",
        "    </tr>\n",
        "    <tr>\n",
        "      <th>4</th>\n",
        "      <td> staticfactory</td>\n",
        "      <td> 355</td>\n",
        "      <td> 2727</td>\n",
        "      <td>  w1o0s</td>\n",
        "      <td> 3314</td>\n",
        "      <td> Back in 2001 I worked the phones for a call-ce...</td>\n",
        "      <td>                    My claim to tech-support fame.</td>\n",
        "      <td> 6041</td>\n",
        "      <td> 2.215255</td>\n",
        "      <td> 0.739698</td>\n",
        "    </tr>\n",
        "    <tr>\n",
        "      <th>5</th>\n",
        "      <td>      vonadler</td>\n",
        "      <td> 296</td>\n",
        "      <td> 1590</td>\n",
        "      <td> 16jmmg</td>\n",
        "      <td> 2923</td>\n",
        "      <td> I worked tech support abroad, and we had a bos...</td>\n",
        "      <td>                  The big bad badass bastard boss.</td>\n",
        "      <td> 4513</td>\n",
        "      <td> 2.838365</td>\n",
        "      <td> 0.655807</td>\n",
        "    </tr>\n",
        "    <tr>\n",
        "      <th>6</th>\n",
        "      <td>     aveilleux</td>\n",
        "      <td> 841</td>\n",
        "      <td> 2385</td>\n",
        "      <td>  w79zp</td>\n",
        "      <td> 2905</td>\n",
        "      <td> This happened about ~~an hour~~ two hours ago....</td>\n",
        "      <td>              I got one of those scam calls today.</td>\n",
        "      <td> 5290</td>\n",
        "      <td> 2.218029</td>\n",
        "      <td> 0.686966</td>\n",
        "    </tr>\n",
        "    <tr>\n",
        "      <th>7</th>\n",
        "      <td>          jon6</td>\n",
        "      <td> 392</td>\n",
        "      <td> 3451</td>\n",
        "      <td> 1aqr2l</td>\n",
        "      <td> 2578</td>\n",
        "      <td> The next couple of days seemed more irritating...</td>\n",
        "      <td> The B**** Manager from Hell Pt11: Bring the so...</td>\n",
        "      <td> 6029</td>\n",
        "      <td> 1.747030</td>\n",
        "      <td> 0.583661</td>\n",
        "    </tr>\n",
        "    <tr>\n",
        "      <th>8</th>\n",
        "      <td>     ibrewbeer</td>\n",
        "      <td> 321</td>\n",
        "      <td> 1333</td>\n",
        "      <td> 17fns6</td>\n",
        "      <td> 2526</td>\n",
        "      <td> My firm uses a web based ticketing system for ...</td>\n",
        "      <td>               How to deal with the one-word email</td>\n",
        "      <td> 3859</td>\n",
        "      <td> 2.894974</td>\n",
        "      <td> 0.573595</td>\n",
        "    </tr>\n",
        "    <tr>\n",
        "      <th>9</th>\n",
        "      <td>          jon6</td>\n",
        "      <td> 282</td>\n",
        "      <td> 2796</td>\n",
        "      <td> 1ao78b</td>\n",
        "      <td> 2368</td>\n",
        "      <td> Monday morning finally arrived. I slightly con...</td>\n",
        "      <td>  The B**** Manager from Hell Pt8: Best laid plans</td>\n",
        "      <td> 5164</td>\n",
        "      <td> 1.846924</td>\n",
        "      <td> 0.531900</td>\n",
        "    </tr>\n",
        "  </tbody>\n",
        "</table>\n",
        "</div>"
       ],
       "metadata": {},
       "output_type": "pyout",
       "prompt_number": 161,
       "text": [
        "          author  comments  downvotes      id  score  \\\n",
        "0       Psychotc       641       1200  13gnjm   4005   \n",
        "1     phlogiston       489       2178   trffn   3892   \n",
        "2        ronearc       416       1613   wc6gr   3644   \n",
        "3      tlddotnet       552       2243  17d1dw   3370   \n",
        "4  staticfactory       355       2727   w1o0s   3314   \n",
        "5       vonadler       296       1590  16jmmg   2923   \n",
        "6      aveilleux       841       2385   w79zp   2905   \n",
        "7           jon6       392       3451  1aqr2l   2578   \n",
        "8      ibrewbeer       321       1333  17fns6   2526   \n",
        "9           jon6       282       2796  1ao78b   2368   \n",
        "\n",
        "                                            selftext  \\\n",
        "0  Like most sane individuals, I am on my countri...   \n",
        "1  I thought I'd share one of my proudest moments...   \n",
        "2  I was working graveyards, about a decade ago, ...   \n",
        "3  This is a tale about bravery. Bravery in the f...   \n",
        "4  Back in 2001 I worked the phones for a call-ce...   \n",
        "5  I worked tech support abroad, and we had a bos...   \n",
        "6  This happened about ~~an hour~~ two hours ago....   \n",
        "7  The next couple of days seemed more irritating...   \n",
        "8  My firm uses a web based ticketing system for ...   \n",
        "9  Monday morning finally arrived. I slightly con...   \n",
        "\n",
        "                                               title  upvotes   up/down  \\\n",
        "0  Providing tech support to telemarketers for fu...     5205  4.337500   \n",
        "1  It doesn't matter what it costs, please get my...     6070  2.786961   \n",
        "2                     I just had to put a robe on...     5257  3.259144   \n",
        "3                              I am NOT fixing this.     5613  2.502452   \n",
        "4                     My claim to tech-support fame.     6041  2.215255   \n",
        "5                   The big bad badass bastard boss.     4513  2.838365   \n",
        "6               I got one of those scam calls today.     5290  2.218029   \n",
        "7  The B**** Manager from Hell Pt11: Bring the so...     6029  1.747030   \n",
        "8                How to deal with the one-word email     3859  2.894974   \n",
        "9   The B**** Manager from Hell Pt8: Best laid plans     5164  1.846924   \n",
        "\n",
        "   mymetric  \n",
        "0  0.917387  \n",
        "1  0.874721  \n",
        "2  0.819417  \n",
        "3  0.766876  \n",
        "4  0.739698  \n",
        "5  0.655807  \n",
        "6  0.686966  \n",
        "7  0.583661  \n",
        "8  0.573595  \n",
        "9  0.531900  "
       ]
      }
     ],
     "prompt_number": 161
    },
    {
     "cell_type": "code",
     "collapsed": false,
     "input": [
      "from sklearn.feature_extraction.text import CountVectorizer\n",
      "from sklearn.cross_validation import train_test_split\n",
      "from sklearn.naive_bayes import MultinomialNB"
     ],
     "language": "python",
     "metadata": {},
     "outputs": [],
     "prompt_number": 162
    },
    {
     "cell_type": "code",
     "collapsed": false,
     "input": [
      "vectorizer = CountVectorizer(min_df=0)\n",
      "title = df['title']\n",
      "vectorizer.fit(title)\n",
      "X = vectorizer.transform(title)\n",
      "Y = np.array(df['score'])"
     ],
     "language": "python",
     "metadata": {},
     "outputs": [],
     "prompt_number": 178
    },
    {
     "cell_type": "code",
     "collapsed": false,
     "input": [
      "vectorizer2 = CountVectorizer(min_df=0)\n",
      "title2 = df2['title']\n",
      "vectorizer2.fit(title2)\n",
      "X2 = vectorizer2.transform(title2)\n",
      "Y2 = np.array(df2['score'])"
     ],
     "language": "python",
     "metadata": {},
     "outputs": [],
     "prompt_number": 179
    },
    {
     "cell_type": "code",
     "collapsed": false,
     "input": [
      "x_train, x_test, y_train, y_test = train_test_split(X2, Y2, train_size=0.5) #I added the train size parameter.\n",
      "\n",
      "clf = MultinomialNB()\n",
      "clf.fit(x_train, y_train)\n",
      "print \"Training accuracy is\", clf.score(x_train, y_train)"
     ],
     "language": "python",
     "metadata": {},
     "outputs": [
      {
       "output_type": "stream",
       "stream": "stdout",
       "text": [
        "Training accuracy is 0.735849056604\n"
       ]
      }
     ],
     "prompt_number": 182
    },
    {
     "cell_type": "code",
     "collapsed": false,
     "input": [
      "print \"Test accuracy is\", clf.score(x_test, y_test)"
     ],
     "language": "python",
     "metadata": {},
     "outputs": [
      {
       "output_type": "stream",
       "stream": "stdout",
       "text": [
        "Test accuracy is 0.0849056603774\n"
       ]
      }
     ],
     "prompt_number": 183
    },
    {
     "cell_type": "code",
     "collapsed": false,
     "input": [],
     "language": "python",
     "metadata": {},
     "outputs": []
    }
   ],
   "metadata": {}
  }
 ]
}