{
 "metadata": {
  "name": ""
 },
 "nbformat": 3,
 "nbformat_minor": 0,
 "worksheets": [
  {
   "cells": [
    {
     "cell_type": "code",
     "collapsed": false,
     "input": [
      "import nltk\n",
      "from nltk.util import ngrams\n",
      "from nltk.collocations import *\n"
     ],
     "language": "python",
     "metadata": {},
     "outputs": [],
     "prompt_number": 2
    },
    {
     "cell_type": "code",
     "collapsed": false,
     "input": [
      "sentence = \"\"\"Hey a clean politically correct joke thats also funny \"\"\""
     ],
     "language": "python",
     "metadata": {},
     "outputs": [],
     "prompt_number": 19
    },
    {
     "cell_type": "code",
     "collapsed": false,
     "input": [
      "tokens = nltk.word_tokenize(sentence)"
     ],
     "language": "python",
     "metadata": {},
     "outputs": [],
     "prompt_number": 20
    },
    {
     "cell_type": "code",
     "collapsed": false,
     "input": [
      "tagged = nltk.pos_tag(tokens)"
     ],
     "language": "python",
     "metadata": {},
     "outputs": [],
     "prompt_number": 21
    },
    {
     "cell_type": "code",
     "collapsed": false,
     "input": [
      "entities = nltk.chunk.ne_chunk(tagged)\n",
      "entities"
     ],
     "language": "python",
     "metadata": {},
     "outputs": [
      {
       "metadata": {},
       "output_type": "pyout",
       "prompt_number": 22,
       "text": [
        "Tree('S', [('Hey', 'PRP'), ('a', 'DT'), ('clean', 'JJ'), ('politically', 'RB'), ('correct', 'JJ'), ('joke', 'NN'), ('thats', 'NNS'), ('also', 'RB'), ('funny', 'JJ')])"
       ]
      }
     ],
     "prompt_number": 22
    },
    {
     "cell_type": "code",
     "collapsed": false,
     "input": [
      "bigram_measures = nltk.collocations.BigramAssocMeasures()\n",
      "trigram_measures = nltk.collocations.TrigramAssocMeasures()\n",
      "\n",
      "finder = BigramCollocationFinder.from_words(tokens)\n",
      "finder.apply_freq_filter(1) \n",
      "\n",
      "# return the 10 n-grams with the highest PMI\n",
      "finder.nbest(bigram_measures.pmi, 10)  "
     ],
     "language": "python",
     "metadata": {},
     "outputs": [
      {
       "metadata": {},
       "output_type": "pyout",
       "prompt_number": 24,
       "text": [
        "[('Hey', 'a'),\n",
        " ('a', 'clean'),\n",
        " ('also', 'funny'),\n",
        " ('clean', 'politically'),\n",
        " ('correct', 'joke'),\n",
        " ('joke', 'thats'),\n",
        " ('politically', 'correct'),\n",
        " ('thats', 'also')]"
       ]
      }
     ],
     "prompt_number": 24
    },
    {
     "cell_type": "code",
     "collapsed": false,
     "input": [
      "\n",
      "myPorterStemmer = nltk.stem.porter.PorterStemmer() # ignore_stopwords=True)\n",
      "print myPorterStemmer.stem(\"greater\")\n",
      "#for word in sentence.split():\n",
      "#    print myPorterStemmer.stem(word)"
     ],
     "language": "python",
     "metadata": {},
     "outputs": []
    }
   ],
   "metadata": {}
  }
 ]
}