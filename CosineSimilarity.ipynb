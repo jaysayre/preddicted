{
 "metadata": {
  "name": ""
 },
 "nbformat": 3,
 "nbformat_minor": 0,
 "worksheets": [
  {
   "cells": [
    {
     "cell_type": "code",
     "collapsed": false,
     "input": [
      "from sklearn.feature_extraction.text import TfidfVectorizer\n",
      "from sklearn.metrics.pairwise import cosine_similarity\n",
      "import pandas as pd"
     ],
     "language": "python",
     "metadata": {},
     "outputs": [],
     "prompt_number": 4
    },
    {
     "cell_type": "markdown",
     "metadata": {},
     "source": [
      "In order to increase the quality of our clustering algorithms we wanted to look at text similarity to calculate the k nearest neighbors of a text and look at their scores. A famous algorithm for calculating the similarity between text is the cosine-similarity. The tutorial from the following cell can be found [here](http://pyevolve.sourceforge.net/wordpress/?p=2497)."
     ]
    },
    {
     "cell_type": "markdown",
     "metadata": {},
     "source": [
      "The tfidf_matrix[0:1] is the Scipy operation to get the first row of the sparse matrix and the resulting array is the Cosine Similarity between the first document with all documents in the set."
     ]
    },
    {
     "cell_type": "code",
     "collapsed": false,
     "input": [
      "documents = (\n",
      "\"The sky is blue\",\n",
      "\"The sun is bright\",\n",
      "\"The sun in the sky is bright\",\n",
      "\"We can see the shining sun, the bright sun\"\n",
      ")\n",
      "tfidf_vectorizer = TfidfVectorizer()\n",
      "tfidf_matrix = tfidf_vectorizer.fit_transform(documents)\n",
      "print tfidf_matrix.shape\n",
      "\n",
      "cosine_similarity(tfidf_matrix[0:1], tfidf_matrix)\n"
     ],
     "language": "python",
     "metadata": {},
     "outputs": [
      {
       "output_type": "stream",
       "stream": "stdout",
       "text": [
        "(4, 5)\n"
       ]
      },
      {
       "metadata": {},
       "output_type": "pyout",
       "prompt_number": 2,
       "text": [
        "array([[ 1.        ,  0.48740306,  0.80547084,  0.27002114]])"
       ]
      }
     ],
     "prompt_number": 2
    },
    {
     "cell_type": "code",
     "collapsed": false,
     "input": [
      "big_table = pd.read_csv('Data/full.csv', encoding='utf-8')"
     ],
     "language": "python",
     "metadata": {},
     "outputs": [],
     "prompt_number": 5
    },
    {
     "cell_type": "code",
     "collapsed": false,
     "input": [
      "def make_xy(titles, scores, vectorizer=None):\n",
      "    #Set default vecotrizer\n",
      "    if not vectorizer:\n",
      "        vectorizer = TfidfVectorizer()\n",
      "        \n",
      "    #Build the vocabulary by fitting the vectorizer to the list of quotes\n",
      "    #Convert into a bag-of-words and use a sparse array to save memory\n",
      "    x = vectorizer.fit_transform(titles)    \n",
      "    #x = x.tocsc()\n",
      "    #save into numpy array, and return everything\n",
      "    y = np.array(scores)\n",
      "    return x, y, vectorizer\n",
      "\n",
      "X,Y,vectorizer = make_xy(list(df['title']), df['score'])"
     ],
     "language": "python",
     "metadata": {},
     "outputs": []
    }
   ],
   "metadata": {}
  }
 ]
}