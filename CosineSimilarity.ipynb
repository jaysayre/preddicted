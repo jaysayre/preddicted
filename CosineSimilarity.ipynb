{
 "metadata": {
  "name": ""
 },
 "nbformat": 3,
 "nbformat_minor": 0,
 "worksheets": [
  {
   "cells": [
    {
     "cell_type": "code",
     "collapsed": false,
     "input": [
      "from sklearn.feature_extraction.text import TfidfVectorizer\n",
      "from sklearn.metrics.pairwise import cosine_similarity\n",
      "import pandas as pd\n",
      "import numpy as np"
     ],
     "language": "python",
     "metadata": {},
     "outputs": [],
     "prompt_number": 2
    },
    {
     "cell_type": "markdown",
     "metadata": {},
     "source": [
      "In order to increase the quality of our clustering algorithms we wanted to look at text similarity to calculate the k nearest neighbors of a text and look at their scores. A famous algorithm for calculating the similarity between text is the cosine-similarity. The tutorial from the following cell can be found [here](http://pyevolve.sourceforge.net/wordpress/?p=2497)."
     ]
    },
    {
     "cell_type": "markdown",
     "metadata": {},
     "source": [
      "The tfidf_matrix[0:1] is the Scipy operation to get the first row of the sparse matrix and the resulting array is the Cosine Similarity between the first document with all documents in the set."
     ]
    },
    {
     "cell_type": "code",
     "collapsed": false,
     "input": [
      "documents = (\n",
      "\"The sky is blue\",\n",
      "\"The sun is bright\",\n",
      "\"The sun in the sky is bright\",\n",
      "\"We can see the shining sun, the bright sun\"\n",
      ")\n",
      "tfidf_vectorizer = TfidfVectorizer()\n",
      "tfidf_matrix = tfidf_vectorizer.fit_transform(documents)\n",
      "print tfidf_matrix.shape\n",
      "\n",
      "print cosine_similarity(tfidf_matrix[0:1], tfidf_matrix)\n",
      "print f(cosine_similarity(tfidf_matrix[0:1], tfidf_matrix))\n"
     ],
     "language": "python",
     "metadata": {},
     "outputs": [
      {
       "output_type": "stream",
       "stream": "stdout",
       "text": [
        "(4, 5)\n",
        "[[ 1.          0.48740306  0.80547084  0.27002114]]\n",
        "[0 2 1 3]\n"
       ]
      }
     ],
     "prompt_number": 15
    },
    {
     "cell_type": "code",
     "collapsed": false,
     "input": [
      "big_table = pd.read_csv('Data/full.csv', encoding='utf-8')\n",
      "big_table = big_table.drop_duplicates('id')"
     ],
     "language": "python",
     "metadata": {},
     "outputs": [],
     "prompt_number": 29
    },
    {
     "cell_type": "code",
     "collapsed": false,
     "input": [
      "def make_xy(titles, scores, vectorizer=None):\n",
      "    #Set default vecotrizer\n",
      "    if not vectorizer:\n",
      "        vectorizer = TfidfVectorizer()\n",
      "        \n",
      "    #Build the vocabulary by fitting the vectorizer to the list of quotes\n",
      "    #Convert into a bag-of-words and use a sparse array to save memory\n",
      "    x = vectorizer.fit_transform(titles)    \n",
      "    #x = x.tocsc()\n",
      "    #save into numpy array, and return everything\n",
      "    y = np.array(scores)\n",
      "    return x, y, vectorizer\n",
      "\n",
      "X,Y,vectorizer = make_xy(list(big_table['title']), big_table['score'])"
     ],
     "language": "python",
     "metadata": {},
     "outputs": [],
     "prompt_number": 26
    },
    {
     "cell_type": "code",
     "collapsed": false,
     "input": [
      "# from http://stackoverflow.com/questions/12787650/finding-the-index-of-n-biggest-elements-in-python-array-list-efficiently\n",
      "def f(a):\n",
      "    return np.argsort(a)[0][::-1]"
     ],
     "language": "python",
     "metadata": {},
     "outputs": [],
     "prompt_number": 27
    },
    {
     "cell_type": "code",
     "collapsed": false,
     "input": [
      "#for a in enumerate(x):\n",
      "#    cosine_similarity(X[0:1], X)"
     ],
     "language": "python",
     "metadata": {},
     "outputs": [],
     "prompt_number": 7
    },
    {
     "cell_type": "code",
     "collapsed": false,
     "input": [
      "closest_title_scores = {}\n",
      "i = 1\n",
      "for a in X:\n",
      "    if i == 2:\n",
      "        vec = cosine_similarity(a, X)\n",
      "        sorted_vec = f(vec)\n",
      "        #print vec[0][sorted_vec[1]]\n",
      "        num = 0\n",
      "        already_printed = 0\n",
      "        closest_list = []\n",
      "        while already_printed < 10:    \n",
      "            try:\n",
      "                curr = big_table['title'][sorted_vec[num]]\n",
      "                sco = big_table['score'][sorted_vec[num]]\n",
      "                \n",
      "                closest_list.append((curr, sco, vec[0][sorted_vec[num]]))\n",
      "                #print vec[0][sorted_vec[num]]\n",
      "                #print already_printed, curr\n",
      "                #print \"with score\", sco\n",
      "                already_printed +=1\n",
      "            except:\n",
      "                #print vec[0][sorted_vec[num]]\n",
      "                pass\n",
      "            \n",
      "            num +=1\n",
      "        closest_title_scores[closest_list[0][0]] = closest_list[1:]\n",
      "                \n",
      "    i+=1\n",
      "print closest_title_scores"
     ],
     "language": "python",
     "metadata": {},
     "outputs": [
      {
       "output_type": "stream",
       "stream": "stdout",
       "text": [
        "{u' a Democratic state senator resigned her seat rather than face a recall vote that could have cost her party control of the chamber': [(u'Colorado State Senator Resigns Rather Than Face Recall Over Guns', 31, 0.39578988641882223), (u'Id rather fire you than her', 365, 0.29818170737926963), (u'Its her', 0, 0.26135577880444244), (u'I can still remember her face', 80, 0.24728495074088369), (u'Colin Powell to Bill OReilly I want to see a Republican Party that rather than trying to make it more difficult to vote and restricting the number of days and hours you can vote a Republican Party that says we want everybody to vote and were going to give you a reason to vote for us', 3354, 0.24429542422338843), (u'Colorado State Sen Evie Hudak has decided to resign rather than risk facing a recall election that should she lose would flip control of the senate to Republicans', 93, 0.23394165878457299), (u'Her mothers pretty face', 629, 0.2329714112667863), (u'Petty revenge was all over her face', 1506, 0.2276446792315924), (u'After two years Ive seen her again And her face still pi es me off', 915, 0.22003766443700898)]}\n"
       ]
      }
     ],
     "prompt_number": 39
    },
    {
     "cell_type": "code",
     "collapsed": false,
     "input": [
      "print big_table['title'][1]"
     ],
     "language": "python",
     "metadata": {},
     "outputs": [
      {
       "output_type": "stream",
       "stream": "stdout",
       "text": [
        " a Democratic state senator resigned her seat rather than face a recall vote that could have cost her party control of the chamber\n"
       ]
      }
     ],
     "prompt_number": 9
    },
    {
     "cell_type": "code",
     "collapsed": false,
     "input": [],
     "language": "python",
     "metadata": {},
     "outputs": [],
     "prompt_number": 9
    }
   ],
   "metadata": {}
  }
 ]
}